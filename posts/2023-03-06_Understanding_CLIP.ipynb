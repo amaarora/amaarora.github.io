{
 "cells": [
  {
   "cell_type": "raw",
   "id": "fb8e9db2",
   "metadata": {},
   "source": [
    "---\n",
    "title: The Annotated CLIP (Part-1)\n",
    "subtitle: Learning Transferable Visual Models From Natural Language Supervision\n",
    "description: | \n",
    "    This post is part-1 of the two series blog posts on CLIP. In this blog, we present an Introduction to CLIP in an easy to digest manner. We also compare CLIP to other research papers and look at the background and inspiration behind CLIP. \n",
    "categories:\n",
    "  - Multimodal\n",
    "  - Transformers\n",
    "author: Aman Arora\n",
    "date: \"03/03/2023\"\n",
    "toc: true\n",
    "number-sections: true\n",
    "title-block-banner: true\n",
    "bibliography: ../references.bib\n",
    "reference-location: margin\n",
    "citation-location: margin\n",
    "code-fold: false\n",
    "image: ../images/clip.png\n",
    "---"
   ]
  },
  {
   "cell_type": "markdown",
   "id": "d4cccfdc",
   "metadata": {},
   "source": [
    "## Personal Updates"
   ]
  },
  {
   "cell_type": "markdown",
   "id": "bf996854",
   "metadata": {},
   "source": [
    "Hello, and welcome back everybody to the blog! This is my first blog of the year 2023 and as publicly announced on [Twitter](https://twitter.com/amaarora/status/1623082761052635136), I am returning to blogging with a commitment of 1 blog a week, planned to be released every Monday at 9am AEST. "
   ]
  },
  {
   "cell_type": "raw",
   "id": "8d2d1fd4",
   "metadata": {},
   "source": [
    "<blockquote class=\"twitter-tweet tw-align-center\"><p lang=\"en\" dir=\"ltr\">Starting 01 Mar, 2023 I’ll be going back to blogging 1 post a week every Monday at 9am AEST. <br><br>These blogs will be about AI research, new technologies, updates, frameworks, Kaggle competitions and more. <br><br>If you have a topic that you’d like me to cover, please let me know. :)</p>&mdash; Aman Arora (@amaarora) <a href=\"https://twitter.com/amaarora/status/1623082761052635136?ref_src=twsrc%5Etfw\">February 7, 2023</a></blockquote> <script async src=\"https://platform.twitter.com/widgets.js\" charset=\"utf-8\"></script>"
   ]
  },
  {
   "cell_type": "markdown",
   "id": "b0fc45bf",
   "metadata": {},
   "source": [
    "Also, in case you missed it, I was also recently interviewed by [Radek Osmulski](https://twitter.com/radekosmulski) - **\"How to Blog to Advance Your Career and Learn Faster\"** (in AI). In the video, we discuss and talk about my motivation for writing blogs, blogging to advance your career and learn, how to get started with blogging & more!"
   ]
  },
  {
   "cell_type": "raw",
   "id": "6e7c5b73",
   "metadata": {},
   "source": [
    "<div style=\"text-align: center;\"><iframe width=\"560\" height=\"315\" src=\"https://www.youtube.com/embed/1nMckFzGcd8\" title=\"YouTube video player\" frameborder=\"0\" allow=\"accelerometer; autoplay; clipboard-write; encrypted-media; gyroscope; picture-in-picture; web-share\" allowfullscreen></iframe></div>"
   ]
  },
  {
   "cell_type": "markdown",
   "id": "aee66138",
   "metadata": {},
   "source": [
    "I have also updated my personal blog to use [Quarto](https://quarto.org/). The idea is to release all future blog posts which are working Jupyter Notebooks themeselves."
   ]
  },
  {
   "cell_type": "markdown",
   "id": "0bcb1ad9",
   "metadata": {},
   "source": [
    "Now, with personal updates out of the way, let's get started with CLIP. "
   ]
  },
  {
   "cell_type": "markdown",
   "id": "9a319e0a",
   "metadata": {},
   "source": [
    "## Introduction"
   ]
  },
  {
   "cell_type": "markdown",
   "id": "929c9e4a",
   "metadata": {},
   "source": [
    "As part of this blog post we will be uncovering the inner workings of CLIP - [Learning Transferable Visual Models From Natural Language Supervision](https://arxiv.org/abs/2103.00020) (@clip), and we will be looking at it's PyTorch implementation in part-2 of the blog that will be released next week."
   ]
  },
  {
   "cell_type": "markdown",
   "id": "4c50276c",
   "metadata": {},
   "source": [
    "CLIP in itself does not present a new idea, but implements an older idea of learning Image representations from text. CLIP applies this idea to a large scale dataset (400M images), and achieves zero shot transfer on ImageNet that matches ResNet-50. At the time of writing CLIP was the first model architecture to achieve such great zero shot results on ImageNet."
   ]
  },
  {
   "cell_type": "markdown",
   "id": "6dd2b4b3",
   "metadata": {},
   "source": [
    "### Key Contributions"
   ]
  },
  {
   "cell_type": "markdown",
   "id": "88daec6f",
   "metadata": {},
   "source": [
    "If I am to summarise key contributions from the paper: "
   ]
  },
  {
   "cell_type": "markdown",
   "id": "0cdbf048",
   "metadata": {},
   "source": [
    "1. **New (image, text) pair dataset:** *We demonstrate that the simple pre-training task of predicting which caption goes with which image is an efficient and scalable way to learn SOTA image representations from scratch on a dataset of 400 million (image, text) pairs collected from the internet.*\n",
    "2. **Zero-shot performance that is competitive with supervised models:** *We study the performance of this approach by benchmarking on over 30 different existing computer vision datasets, spanning tasks such as OCR, action recognition in videos, geo-localization, and many types of fine-grained object classification. The model transfers non-trivially to most tasks and is often competitive with a fully supervised baseline without the need for any dataset specific training.*\n",
    "3. **High zero shot performance on ImageNet:** We match the accuracy of the original ResNet-50 on ImageNet zero-shot without needing to use any of the 1.28 million training examples it was trained on.\n",
    "4. **Open source model and weights:** *We release our code and pre-trained model weights at https://github.com/OpenAI/CLIP.*"
   ]
  },
  {
   "cell_type": "markdown",
   "id": "af59d2e6",
   "metadata": {},
   "source": [
    "Before we start looking at the inner workings of CLIP, let's look at some background that led to the development of CLIP."
   ]
  },
  {
   "cell_type": "markdown",
   "id": "1091abb0",
   "metadata": {},
   "source": [
    "## Motivation for CLIP & Prior Work"
   ]
  },
  {
   "cell_type": "markdown",
   "id": "58194cf9",
   "metadata": {},
   "source": [
    "CLIP was written in 2021, at a time where text transformer based models like GPT-3 (and others) were competitive across many tasks on various benchmark datasets, while requiring little to no dataset specific training data. This was made possible by pretraining on huge amounts of data found directly from the web. Pre-training on Wikipidea articles (WebText which contained the text subset of these 45 million links), became standard practice."
   ]
  },
  {
   "cell_type": "markdown",
   "id": "123258d9",
   "metadata": {},
   "source": [
    "It was clear that models pre-trained on high web-scale collections of text surpassed that of high-quality crowd-labeled NLP datasets."
   ]
  },
  {
   "cell_type": "markdown",
   "id": "fb981810",
   "metadata": {},
   "source": [
    "But, for vision based models, it was still standard practice to pre-train models on crowd-labeled datasets such as ImageNet. The question then is ***Could scalable pre-training methods which learn directly from web text result in a similar breakthrough in computer vision?***"
   ]
  },
  {
   "cell_type": "markdown",
   "id": "10c636ca",
   "metadata": {},
   "source": [
    "At the time it was still common practice to train on crowd labeled datasets for computer vision. \n",
    "\n",
    "For example, Kolesnikov et al. (2019) and Dosovitskiy et al. (2020) had demonstrated large gains on a broader set of transfer benchmarks by pre-training models to predict the classes of the noisily labeled JFT-300M dataset. But both approaches used static softmax classifiers to perform prediction, which severely curtails their flexibility and limits their “zero-shot” capabilities."
   ]
  },
  {
   "cell_type": "markdown",
   "id": "5a2c0cf3",
   "metadata": {},
   "source": [
    "But also, before CLIP some attempts had been made to learn image representations directly from text - VirTex (Desai & Johnson, 2020), ICMLM (Bulent Sariyildiz et al., 2020), and ConVIRT (Zhang et al., 2020). "
   ]
  },
  {
   "cell_type": "raw",
   "id": "caeccfcc",
   "metadata": {},
   "source": [
    "::: {.callout-tip}\n",
    "## Important\n",
    "In my humble opinion, ConVirt - \"[Contrastive Learning of Medical Visual Representations from Paired Images and Text](https://arxiv.org/abs/2010.00747)\" (Zhang et al., 2020) is of most interest of all prior work. \n",
    "\n",
    "![Two example chest X-ray images with different abnormality categories](../images/convirt.png){#fig-convirt}\n",
    "\n",
    "ConVirt introduced a new method of pretraining medical image encoders with the paired text data (as in @fig-convirt) via a bidirectional contrastive objective between the two modalities. This method was domain-agnostic, and required no additional expert input.\n",
    "\n",
    "However, ConVirt had been applied in the medical context. CLIP expanded this idea to general visual recognition. Thus, ConVirt directly inspired CLIP.\n",
    "\n",
    "![Overview of ConVirt](../images/overview_convirt.png){#fig-overview-convirt}\n",
    "\n",
    "The figure above shows the overview of ConVirt, and as you'll notice, CLIP is quite similar.\n",
    "\n",
    "From the ConVirt paper:\n",
    "\n",
    "*ConVIRT has directly inspired subsequent studies such as the CLIP framework (Radford et al., 2021) and the ALIGN model (Jia et al., 2021), which showed that direct adaptations of ConVIRT-style pretraining at much larger scales\n",
    "lead to state-of-the-art general visual recognition capabilities.*\n",
    ":::"
   ]
  },
  {
   "cell_type": "markdown",
   "id": "1220b7a8",
   "metadata": {},
   "source": [
    "## Approach"
   ]
  },
  {
   "cell_type": "markdown",
   "id": "93a8c38e",
   "metadata": {},
   "source": [
    "*At the core of our approach is the idea of learning perception from supervision contained in natural language. As discussed before, this is not at all a new idea.*"
   ]
  },
  {
   "cell_type": "markdown",
   "id": "430b7ebc",
   "metadata": {},
   "source": [
    "Learning from natural language has several potential strengths over other training methods. Can you think of some? "
   ]
  },
  {
   "cell_type": "markdown",
   "id": "ef55c56c",
   "metadata": {},
   "source": [
    "1. *It’s much easier to scale natural language supervision compared to standard crowd-sourced labeling for image classification.*\n",
    "2. *Learning from natural language also has an important advantage over most unsupervised or self-supervised learning approaches in that it doesn’t “just” learn a representation but also connects that representation to language which enables flexible zero-shot transfer.*"
   ]
  },
  {
   "cell_type": "markdown",
   "id": "a0936247",
   "metadata": {},
   "source": [
    "### Summary with Pseudo-Code"
   ]
  },
  {
   "cell_type": "markdown",
   "id": "859bfe8f",
   "metadata": {},
   "source": [
    "In this section I will present the summary of CLIP architecture from the paper. \n",
    "\n",
    "The overall approach has been presented in @fig-clip below. Can you notice the similarities to ConVirt in @fig-overview-convirt?"
   ]
  },
  {
   "cell_type": "markdown",
   "id": "30e8d70b",
   "metadata": {},
   "source": [
    "![Summary of CLIP approach](../images/clip.png){#fig-clip}"
   ]
  },
  {
   "cell_type": "raw",
   "id": "cac601c5",
   "metadata": {},
   "source": [
    "::: {.callout-note}\n",
    "CLIP Is architecture agnostic. You can use any models as visual and text encoders in @fig-clip.\n",
    "\n",
    "A team led by [Ross Wightman](https://rwightman.com/), [Cade Gordon](http://cadegordon.io/), and [Vaishaal Shankar](http://vaishaal.com/) have a repository [OpenCLIP](https://github.com/mlfoundations/open_clip) that is an open source implementation of CLIP and enables training for any vision models with contrastive image-text supervision. \n",
    ":::"
   ]
  },
  {
   "cell_type": "raw",
   "id": "5028f388",
   "metadata": {},
   "source": [
    "::: {.callout-note}\n",
    "Also, recently, Ross Wightman also [announced](https://twitter.com/wightmanr/status/1630300201075494912) a 847M param ConvNext model trained via CLIP training that achieves 79.43% ImageNet zero-shot eval. Astonishing, right?\n",
    ":::"
   ]
  },
  {
   "cell_type": "markdown",
   "id": "a4583610",
   "metadata": {},
   "source": [
    "The approach presented in @fig-clip has been summarised in pseudo code from paper: \n",
    "\n",
    "```\n",
    "# image_encoder - ResNet or Vision Transformer \n",
    "# text_encoder - CBOW or Text Transformer \n",
    "# I[n, h, w, c] - minibatch of aligned images \n",
    "# T[n, l] - minibatch of aligned texts \n",
    "# W_i[d_i, d_e] - learned proj of image to embed \n",
    "# W_t[d_t, d_e] - learned proj of text to embed \n",
    "# t - learned temperature parameter \n",
    "\n",
    "# extract feature representations of each modality \n",
    "I_f = image_encoder(I) #[n, d_i] \n",
    "T_f = text_encoder(T) #[n, d_t] \n",
    "\n",
    "# joint multimodal embedding [n, d_e] \n",
    "I_e = l2_normalize(np.dot(I_f, W_i), axis=1) \n",
    "T_e = l2_normalize(np.dot(T_f, W_t), axis=1) \n",
    "\n",
    "# scaled pairwise cosine similarities [n, n] \n",
    "logits = np.dot(I_e, T_e.T) * np.exp(t) \n",
    "\n",
    "# symmetric loss function \n",
    "labels = np.arange(n) \n",
    "loss_i = cross_entropy_loss(logits, labels, axis=0) \n",
    "loss_t = cross_entropy_loss(logits, labels, axis=1) \n",
    "loss = (loss_i + loss_t)/2\n",
    "```"
   ]
  },
  {
   "cell_type": "markdown",
   "id": "029dc446",
   "metadata": {},
   "source": [
    "Let's look at what it all means with the help of Microsoft Excel."
   ]
  },
  {
   "cell_type": "markdown",
   "id": "ad4e110a",
   "metadata": {},
   "source": [
    "![Illustration of contrastive loss](../images/contrastive_loss_illustration.png){#fig-contrastive-loss}"
   ]
  },
  {
   "cell_type": "markdown",
   "id": "0e396e05",
   "metadata": {},
   "source": [
    "Let's say we have 8 images with corresponding text descriptions as in @fig-contrastive-loss. CLIP presents a training framework to maximise the cosine similarity of text and image embeddings.\n",
    "\n",
    "As from the pseudo-code, first we pass the images through image encoder and texts through text encoder respective to get image and text features."
   ]
  },
  {
   "cell_type": "code",
   "execution_count": 9,
   "id": "97de0e9f",
   "metadata": {},
   "outputs": [],
   "source": [
    "# ! pip install git+https://github.com/openai/CLIP.git\n",
    "import torch\n",
    "import torch.nn as nn\n",
    "import clip\n",
    "import timm"
   ]
  },
  {
   "cell_type": "code",
   "execution_count": 18,
   "id": "b5b645d7",
   "metadata": {},
   "outputs": [
    {
     "data": {
      "text/plain": [
       "(8, 2048)"
      ]
     },
     "execution_count": 18,
     "metadata": {},
     "output_type": "execute_result"
    }
   ],
   "source": [
    "x = torch.randn(8, 3, 224, 224)\n",
    "visual_enc = timm.create_model('resnet50', num_classes=0)\n",
    "I_f = visual_enc(x)\n",
    "n, d_i = I_f.shape\n",
    "n, d_i"
   ]
  },
  {
   "cell_type": "markdown",
   "id": "3dd2ff33",
   "metadata": {},
   "source": [
    "Therefore in the above case, referencing to pseuo-code, $n=8$ and $d_i = 2048$."
   ]
  },
  {
   "cell_type": "code",
   "execution_count": 19,
   "id": "ae552e56",
   "metadata": {},
   "outputs": [
    {
     "data": {
      "text/plain": [
       "(8, 768)"
      ]
     },
     "execution_count": 19,
     "metadata": {},
     "output_type": "execute_result"
    }
   ],
   "source": [
    "text_enc = nn.Embedding(100, 768)\n",
    "T_f = text_enc(torch.arange(8))\n",
    "n, d_t = T_f.shape\n",
    "n, d_t"
   ]
  },
  {
   "cell_type": "markdown",
   "id": "7ca99f7a",
   "metadata": {},
   "source": [
    "Similarly, referencing to pseudo-code, $n=8$ and $d_t=768$."
   ]
  },
  {
   "cell_type": "markdown",
   "id": "dbc91bcd",
   "metadata": {},
   "source": [
    "Let's just assume the embedding dimension $d_e = 1024$, now, as per psuedo-code, we can have two projection layers- $W_i[d_i, d_e]$ and $W_t[d_t, d_e]$ both for text and image features respectively. "
   ]
  },
  {
   "cell_type": "code",
   "execution_count": 21,
   "id": "7b1ad5d0",
   "metadata": {},
   "outputs": [
    {
     "data": {
      "text/plain": [
       "(Linear(in_features=2048, out_features=1024, bias=True),\n",
       " Linear(in_features=768, out_features=1024, bias=True))"
      ]
     },
     "execution_count": 21,
     "metadata": {},
     "output_type": "execute_result"
    }
   ],
   "source": [
    "d_e = 1024\n",
    "W_i = nn.Linear(d_i, d_e)\n",
    "W_t = nn.Linear(d_t, d_e)\n",
    "W_i, W_t"
   ]
  },
  {
   "cell_type": "markdown",
   "id": "ce85e3ed",
   "metadata": {},
   "source": [
    "Now that we have our projection layers, as per pseudo-code, we get our joint multimodal embeddings through dot product."
   ]
  },
  {
   "cell_type": "code",
   "execution_count": 20,
   "id": "dc7443b0",
   "metadata": {},
   "outputs": [
    {
     "data": {
      "text/plain": [
       "(torch.Size([8, 1024]), torch.Size([8, 1024]))"
      ]
     },
     "execution_count": 20,
     "metadata": {},
     "output_type": "execute_result"
    }
   ],
   "source": [
    "I_e = W_i(I_f)\n",
    "T_e = W_t(T_f)\n",
    "I_e.shape, T_e.shape"
   ]
  },
  {
   "cell_type": "markdown",
   "id": "4de845e9",
   "metadata": {},
   "source": [
    "Now that we both our Image and Text embeddings, we can find cosine-similarity. "
   ]
  },
  {
   "cell_type": "code",
   "execution_count": 24,
   "id": "156becb9",
   "metadata": {},
   "outputs": [
    {
     "data": {
      "text/plain": [
       "torch.Size([8, 8])"
      ]
     },
     "execution_count": 24,
     "metadata": {},
     "output_type": "execute_result"
    }
   ],
   "source": [
    "# scaled pairwise cosine similarities [n, n] \n",
    "logits = I_e @ T_e.T\n",
    "logits.shape"
   ]
  },
  {
   "cell_type": "markdown",
   "id": "81287c4c",
   "metadata": {},
   "source": [
    "![Cosine similarity between text and image features](../images/cosine_similarity.png){#fig-cosine-similarity}"
   ]
  },
  {
   "cell_type": "markdown",
   "id": "ddfa28b1",
   "metadata": {},
   "source": [
    "We want the cosine similarity of real (text, image) pairs to be high (right diagonal), and everywhere else to be low. "
   ]
  },
  {
   "cell_type": "markdown",
   "id": "83944fcb",
   "metadata": {},
   "source": [
    "So what loss function could we use in this case? The answer is in the pseudo-code. \n",
    "\n",
    "```\n",
    "# symmetric loss function \n",
    "labels = np.arange(n) \n",
    "loss_i = cross_entropy_loss(logits, labels, axis=0) \n",
    "loss_t = cross_entropy_loss(logits, labels, axis=1) \n",
    "loss = (loss_i + loss_t)/2\n",
    "```"
   ]
  },
  {
   "cell_type": "markdown",
   "id": "f5db0cdc",
   "metadata": {},
   "source": [
    "When we do cross entropy loss with both axis=1 and axis=0, we are pushing logits to be high for the diagonal and low everywhere else. This is also referred to as **Contrastive Loss**. Thus, by doing this the CLIP model is able to learn visual features directly from text."
   ]
  },
  {
   "cell_type": "markdown",
   "id": "52a64535",
   "metadata": {},
   "source": [
    "By training on a dataset of 400 million (image, text) pairs, the CLIP model is able to attain zero shot performance on ImageNet that is comparable to ResNet-50! "
   ]
  },
  {
   "cell_type": "markdown",
   "id": "338410a4",
   "metadata": {},
   "source": [
    "And that's really all the magic behind CLIP."
   ]
  },
  {
   "cell_type": "markdown",
   "id": "ce0c3a47",
   "metadata": {},
   "source": [
    "## Conclusion"
   ]
  },
  {
   "cell_type": "markdown",
   "id": "e01b3e63",
   "metadata": {},
   "source": [
    "As part of this blog post, we introduced the CLIP architecture to the reader. We saw how the CLIP approach is very similar to ConVirt with some very minor differences which we will discuss further in part-2 of the blog to be released next week. \n",
    "\n",
    "In part-2, we will also be looking at the PyTorch code of CLIP, and the training code from [OpenClip](https://github.com/mlfoundations/open_clip). \n",
    "\n",
    "If you enjoyed reading, please feel free to [subscribe](https://amaarora.github.io/#subscribe-to-aman-aroras-blog) to receive regular updates regarding new blog posts."
   ]
  },
  {
   "cell_type": "code",
   "execution_count": null,
   "id": "7863183d",
   "metadata": {},
   "outputs": [],
   "source": []
  }
 ],
 "metadata": {
  "kernelspec": {
   "display_name": "Python 3 (ipykernel)",
   "language": "python",
   "name": "python3"
  },
  "language_info": {
   "codemirror_mode": {
    "name": "ipython",
    "version": 3
   },
   "file_extension": ".py",
   "mimetype": "text/x-python",
   "name": "python",
   "nbconvert_exporter": "python",
   "pygments_lexer": "ipython3",
   "version": "3.9.12"
  }
 },
 "nbformat": 4,
 "nbformat_minor": 5
}

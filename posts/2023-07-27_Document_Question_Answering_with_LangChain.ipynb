{
 "cells": [
  {
   "cell_type": "raw",
   "id": "fe1a3877",
   "metadata": {},
   "source": [
    "---\n",
    "title: Demystifying Document Question-Answering Chatbot - A Comprehensive Step-by-Step Tutorial with LangChain\n",
    "description: Embark on an enlightening journey through the world of document-based question-answering chatbots using langchain! With a keen focus on detailed explanations and code walk-throughs, you'll gain a deep understanding of each component - from creating a vector database to response generation. \n",
    "author: Aman Arora\n",
    "date: \"07/25/2023\"\n",
    "toc: true\n",
    "number-sections: true\n",
    "title-block-banner: true\n",
    "bibliography: ../references.bib\n",
    "reference-location: margin\n",
    "code-fold: false\n",
    "image: ../images/langchain.png\n",
    "---"
   ]
  },
  {
   "cell_type": "markdown",
   "id": "d3bd405b",
   "metadata": {},
   "source": [
    "## Introduction"
   ]
  },
  {
   "cell_type": "markdown",
   "id": "ce5cc73e",
   "metadata": {},
   "source": [
    "Recently I presented at [REA Unstack’d](https://www.meetup.com/rea-unstackd/events/294318323) on Large Language Models. It was mostly a demo about a ChatBot that I’ve been experimenting with at work. This ChatBot can answer Australian property related questions and was built using publicly available data from our company - [PropTrack](https://www.proptrack.com.au/). \n",
    "\n",
    "Later on, we also had a panel discussion on use of LLMs for corporates. We discussed about latest research, safety, deployment & all things LLM."
   ]
  },
  {
   "cell_type": "markdown",
   "id": "4fd836d3",
   "metadata": {},
   "source": [
    " ![REA Unstack'd](../images/IMG_8001.jpg)"
   ]
  },
  {
   "cell_type": "markdown",
   "id": "e6ae9387",
   "metadata": {},
   "source": [
    "Meet [Sachin Abeywardana](https://www.linkedin.com/in/sachinabeywardana?originalSubdomain=au) & [Ned Letcher](https://au.linkedin.com/in/nletcher), our panelists."
   ]
  },
  {
   "cell_type": "markdown",
   "id": "5874158c",
   "metadata": {},
   "source": [
    "There are many tutorials available today that showcase how to build a Q/A ChatBot, and most (if not all) use [LangChain](https://python.langchain.com/docs/get_started/introduction.html). Over the past few months, this framework has become extremely popular among all who want to use LLMs. But, its [source code is hard to read](https://twitter.com/0xSamHogan/status/1679192480565309441) and if you are trying to do something that’s not within the capabilities of the framework, it becomes extremely difficult."
   ]
  },
  {
   "cell_type": "raw",
   "id": "62281d45",
   "metadata": {},
   "source": [
    "<blockquote class=\"twitter-tweet\"><p lang=\"en\" dir=\"ltr\">Here&#39;s a few thoughts on <a href=\"https://twitter.com/LangChainAI?ref_src=twsrc%5Etfw\">@LangChainAI</a>, the problems I see with it currently, and how I think it could improve. This was originally formatted as a message to <a href=\"https://twitter.com/hwchase17?ref_src=twsrc%5Etfw\">@hwchase17</a>:<br><br>Here&#39;s a few things off the top of my head -- <br><br>1. Heavy use of OOP. Having multiple layers of abstraction…</p>&mdash; Sam Hogan (@0xSamHogan) <a href=\"https://twitter.com/0xSamHogan/status/1679192480565309441?ref_src=twsrc%5Etfw\">July 12, 2023</a></blockquote> <script async src=\"https://platform.twitter.com/widgets.js\" charset=\"utf-8\"></script>"
   ]
  },
  {
   "cell_type": "markdown",
   "id": "a51679d5",
   "metadata": {},
   "source": [
    "I recently wrote about `LLMChain`s in langchain too, and found the same to true. You can find the previous blog post [here](https://amaarora.github.io/posts/2023-07-25-llmchain.html). I would highly recommend the readers to give the previous blog post a read, it will explain `LLMChain`s and `Chain`s in langchain, that will be instrumental in understanding conversational chatbot that we are building today."
   ]
  },
  {
   "cell_type": "raw",
   "id": "3fa06e9e",
   "metadata": {},
   "source": [
    "::: {.callout-note}\n",
    "👉 This whole blog post is written with commit-id `24c165420827305e813f4b6d501f93d18f6d46a4`. The blog post in itself is a completely working jupyter notebook with code-snippets.\n",
    ":::"
   ]
  },
  {
   "cell_type": "markdown",
   "id": "1d70ab9a",
   "metadata": {},
   "source": [
    "## Chatbot: Implementation in langchain"
   ]
  },
  {
   "cell_type": "markdown",
   "id": "b747b394",
   "metadata": {},
   "source": [
    "Let's say you have a number of documents, in my case, I have a bunch of markdown documents. And we want to build a question answering chatbot that can take in a question, and find the answer based on the documents."
   ]
  },
  {
   "cell_type": "markdown",
   "id": "bcf810ff",
   "metadata": {},
   "source": [
    "![Chatbot architecture](../images/chatbot.png){#fig-chatbot}"
   ]
  },
  {
   "cell_type": "markdown",
   "id": "e9e6db18",
   "metadata": {},
   "source": [
    "In essence, the chatbot looks something like above. We pass the documents through an \"embedding model\". It is easy enough to use [OpenAI's embedding API](https://platform.openai.com/docs/guides/embeddings) to convert documents, or chunks of documents to embeddings. These embeddings can be stored in a vector database such as [Chroma](https://www.trychroma.com/), [Faiss](https://faiss.ai/index.html) or [Lance](https://lancedb.com/)."
   ]
  },
  {
   "cell_type": "markdown",
   "id": "c2a80797",
   "metadata": {},
   "source": [
    "The user interacts through a \"chat interface\" and enters a question/query. This query can also be converted to an embedding using the embedding model. Next, we can find the nearest chunks (similar to the query) using similarity search, then pass these nearest chunks (referred to as \"context\") to a Large Language Model such as ChatGPT. "
   ]
  },
  {
   "cell_type": "markdown",
   "id": "6f34859c",
   "metadata": {},
   "source": [
    "Finally, we retrieve an answer and this answer get's passed back to the user in the chat interfact. We store this interaction in chat history and continue. "
   ]
  },
  {
   "cell_type": "markdown",
   "id": "2858d833",
   "metadata": {},
   "source": [
    "That is all in theory, in code, using [langchain](https://python.langchain.com/), above would look like:"
   ]
  },
  {
   "cell_type": "code",
   "execution_count": 1,
   "id": "f4d6e866",
   "metadata": {},
   "outputs": [],
   "source": [
    "%load_ext autoreload\n",
    "%autoreload 2\n",
    "\n",
    "from langchain.vectorstores.chroma import Chroma\n",
    "from langchain.embeddings.openai import OpenAIEmbeddings\n",
    "from langchain.text_splitter import CharacterTextSplitter\n",
    "from langchain.document_loaders import DirectoryLoader, UnstructuredMarkdownLoader\n",
    "from langchain.chat_models import ChatOpenAI\n",
    "from langchain.chains import ConversationalRetrievalChain\n",
    "from langchain.memory import ConversationBufferMemory\n",
    "\n",
    "# directory to store vector database\n",
    "persist_directory = \".db/\"\n",
    "openai_api_key = os.environ['OPENAI_API_KEY']\n",
    "# loader that loads `markdown` documents\n",
    "loader = DirectoryLoader(\"./output/\", glob=\"**/*.md\", loader_cls=UnstructuredMarkdownLoader)\n",
    "# text splitter converts documents to chunks\n",
    "docs = loader.load()\n",
    "text_splitter = CharacterTextSplitter(chunk_size=1024, chunk_overlap=128)\n",
    "chunks = text_splitter.split_documents(docs)\n",
    "# embedding model to convert chunks to embeddings\n",
    "embeddings = OpenAIEmbeddings(openai_api_key=openai_api_key)\n",
    "\n",
    "# load vector database, uncomment below two lines if you'd like to create it\n",
    "\n",
    "#################### run only once at beginning ####################\n",
    "# db = Chroma.from_documents(documents=chunks, embedding=embeddings, persist_directory=persist_directory)\n",
    "# db.persist()\n",
    "####################################################################\n",
    "db = Chroma(persist_directory=persist_directory, embedding_function=embeddings)\n",
    "memory = ConversationBufferMemory(\n",
    "    memory_key=\"chat_history\", output_key='answer', return_messages=False)\n",
    "\n",
    "# create QA chain using `langchain`, database is used as vector store retriever to find \"context\" (using similarity search)\n",
    "qa = ConversationalRetrievalChain.from_llm(\n",
    "    llm=ChatOpenAI(temperature=0.2, model_name='gpt-3.5-turbo'),\n",
    "    chain_type=\"stuff\",\n",
    "    retriever=db.as_retriever(),\n",
    "    get_chat_history=lambda o:o,\n",
    "    memory=memory,\n",
    "    return_generated_question=True,\n",
    "    verbose=False,\n",
    ")"
   ]
  },
  {
   "cell_type": "code",
   "execution_count": 2,
   "id": "228bd339",
   "metadata": {},
   "outputs": [
    {
     "data": {
      "text/plain": [
       "{'question': 'Why is it so hard to find a rental property in Australia in June 2023?',\n",
       " 'chat_history': '',\n",
       " 'answer': 'In June 2023, it is hard to find a rental property in Australia due to several factors. Firstly, vacancy rates have fallen to very low levels across the country since the pandemic, meaning there is a shortage of available rentals. This is particularly evident in cities like Sydney and Melbourne. \\n\\nAdditionally, the departure of investors from the rental market has impacted rental supply. Many investors chose to sell their rental properties during 2020 and 2021, and there are few new investors entering the market to replace them. \\n\\nOn the other hand, demand for rentals has been strong in many parts of the country, especially in inner-city areas. The return of international students, migrants, and office workers to CBDs has led to a surge in demand for rental properties. \\n\\nOverall, these factors have created a tight rental market with low vacancy rates and increasing rental prices, making it difficult for individuals to find a rental property in Australia in June 2023.',\n",
       " 'generated_question': 'Why is it so hard to find a rental property in Australia in June 2023?'}"
      ]
     },
     "execution_count": 2,
     "metadata": {},
     "output_type": "execute_result"
    }
   ],
   "source": [
    "# let's ask a question\n",
    "qa({\"question\": \"Why is it so hard to find a rental property in Australia in June 2023?\", \"chat_history\": []})"
   ]
  },
  {
   "cell_type": "markdown",
   "id": "bd177bb9",
   "metadata": {},
   "source": [
    "Looking at the answer above, it really answers the question - **\"Why is it so hard to find a rental property in Australia in June 2023?\"** very well. Above might only be a few lines of code, but there is actually quite a lot going on underneath. Refer to @fig-chatbot for everything that's going on underneath."
   ]
  },
  {
   "cell_type": "markdown",
   "id": "44b09165",
   "metadata": {},
   "source": [
    "But, as a recap, and matching our steps with code shared above: \n",
    "\n",
    "1. Load markdown files in a list `loader = DirectoryLoader(\"./output/\", glob=\"**/*.md\", loader_cls=UnstructuredMarkdownLoader)`\n",
    "2. Create a splitter that can split documents to chunks `text_splitter = CharacterTextSplitter(chunk_size=1024, chunk_overlap=128)`\n",
    "3. Convert each chunk and store as Embeddings in a Chroma DB `Chroma.from_documents(documents=chunks, embedding=embeddings, persist_directory=persist_directory)`\n",
    "4. Use the database as retriever to get relevant text (context), and based on ‘question’, use OpenAI’s gpt-3.5-turbo (ChatGPT) model to answer question based on context.\n",
    "```\n",
    "ConversationalRetrievalChain.from_llm(\n",
    "    llm=ChatOpenAI(temperature=0.2, model_name='gpt-3.5-turbo'),\n",
    "    chain_type=\"stuff\",\n",
    "    retriever=db.as_retriever(),\n",
    "    memory=memory,\n",
    "    verbose=False,\n",
    ")\n",
    "```\n",
    "5. Also store conversation as chat history in memory `memory = ConversationBufferMemory(memory_key=\"chat_history\", return_messages=False)`"
   ]
  },
  {
   "cell_type": "markdown",
   "id": "e45589a6",
   "metadata": {
    "heading_collapsed": true
   },
   "source": [
    "### Text splitter"
   ]
  },
  {
   "cell_type": "markdown",
   "id": "0c1808ed",
   "metadata": {
    "hidden": true
   },
   "source": [
    "For our simple usecase, we are using a text splitter of type `CharacterTextSplitter`. \n",
    "\n",
    "```python\n",
    "text_splitter = CharacterTextSplitter(chunk_size=1024, chunk_overlap=128)\n",
    "```\n",
    "\n",
    "We are using a `chunk_size` of 1024, which means that the document will be divided into chunks of size 1024, and there will be 128 character overlap between each of the chunks."
   ]
  },
  {
   "cell_type": "markdown",
   "id": "132670d6",
   "metadata": {
    "hidden": true
   },
   "source": [
    "The `CharacterTextSplitter` used above splits texts based using regex and a separator. The separator in this case is `'\\n\\n'`. Thus, anytime there are two line breaks, our text splitter will split documents. Internally, in LangChain to split a text, `_split_text_with_regex` is being called. \n",
    "\n",
    "```python\n",
    "# simplified version without `keep_separator`\n",
    "def _split_text_with_regex(\n",
    "    text: str, separator: str, keep_separator: bool\n",
    ") -> List[str]:\n",
    "    # Now that we have the separator, split the text\n",
    "    if separator:\n",
    "\t\t\t\tsplits = re.split(separator, text)\n",
    "    else:\n",
    "        splits = list(text)\n",
    "    return [s for s in splits if s != \"\"]\n",
    "```"
   ]
  },
  {
   "cell_type": "markdown",
   "id": "ccf32458",
   "metadata": {
    "hidden": true
   },
   "source": [
    "There are many other text splitters that we could have also used. For a complete list - refer [here](https://python.langchain.com/docs/modules/data_connection/document_transformers/). "
   ]
  },
  {
   "cell_type": "raw",
   "id": "8eaa7f98",
   "metadata": {
    "hidden": true
   },
   "source": [
    "::: {.callout-note}\n",
    "\n",
    "One good one to further try would be - [`MarkdownHeaderTextSplitter`](https://python.langchain.com/docs/modules/data_connection/document_transformers/text_splitters/markdown_header_metadata). This particular splitter splits based on markdown headings, and it might be more useful for our usecase. \n",
    "\n",
    "> Remember, the idea of chunking is to keep text with common context together.\n",
    "\n",
    ":::"
   ]
  },
  {
   "cell_type": "markdown",
   "id": "5128f8fa",
   "metadata": {
    "hidden": true
   },
   "source": [
    "Now, that we have created our first bit, a text splitter that can split documents to chunks, let's move on to the embedding model."
   ]
  },
  {
   "cell_type": "markdown",
   "id": "b8c7c746",
   "metadata": {
    "heading_collapsed": true
   },
   "source": [
    "### Embedding model"
   ]
  },
  {
   "cell_type": "markdown",
   "id": "08227503",
   "metadata": {
    "hidden": true
   },
   "source": [
    "Also, for our embedding model - we are using `OpenAIEmbeddings`. The main idea for the embedding model is to convert the chunks from before to embeddings. \n",
    "\n",
    "Remember, an embedding is only a vector representation of the text.\n",
    "\n",
    "So, how do we convert our chunks (few sentences long) to a bunch of numbers? We can use [openai's embeddings API](https://platform.openai.com/docs/guides/embeddings). Without langchain, this looks something like:"
   ]
  },
  {
   "cell_type": "code",
   "execution_count": 3,
   "id": "29fc7f17",
   "metadata": {
    "hidden": true
   },
   "outputs": [
    {
     "data": {
      "text/plain": [
       "1536"
      ]
     },
     "execution_count": 3,
     "metadata": {},
     "output_type": "execute_result"
    }
   ],
   "source": [
    "import openai\n",
    "chunk = \"This is a sample chunk consisting of few sentences.\"\n",
    "def get_embedding(text, model=\"text-embedding-ada-002\"):\n",
    "   text = text.replace(\"\\n\", \" \")\n",
    "   return openai.Embedding.create(input = [text], model=model)['data'][0]['embedding']\n",
    "\n",
    "emb = get_embedding(chunk, model='text-embedding-ada-002')\n",
    "len(emb)"
   ]
  },
  {
   "cell_type": "markdown",
   "id": "15fe62dc",
   "metadata": {
    "hidden": true
   },
   "source": [
    "In langchain, to achieve the same we instantiate from `OpenAIEmbeddings`. "
   ]
  },
  {
   "cell_type": "code",
   "execution_count": 4,
   "id": "93aab7da",
   "metadata": {
    "hidden": true
   },
   "outputs": [
    {
     "data": {
      "text/plain": [
       "1536"
      ]
     },
     "execution_count": 4,
     "metadata": {},
     "output_type": "execute_result"
    }
   ],
   "source": [
    "from langchain.embeddings import OpenAIEmbeddings\n",
    "embeddings = OpenAIEmbeddings()\n",
    "text = \"This is a test document.\"\n",
    "query_result = embeddings.embed_query(text)\n",
    "len(query_result)"
   ]
  },
  {
   "cell_type": "markdown",
   "id": "ccec182c",
   "metadata": {
    "hidden": true
   },
   "source": [
    "Now, to embed all chunks at once, `OpenAIEmbeddings` has a method called `embed_documents`. "
   ]
  },
  {
   "cell_type": "code",
   "execution_count": 5,
   "id": "1e944223",
   "metadata": {
    "hidden": true
   },
   "outputs": [
    {
     "data": {
      "text/plain": [
       "(2, 1536)"
      ]
     },
     "execution_count": 5,
     "metadata": {},
     "output_type": "execute_result"
    }
   ],
   "source": [
    "from langchain.embeddings import OpenAIEmbeddings\n",
    "import numpy as np\n",
    "embeddings = OpenAIEmbeddings()\n",
    "docs = [\"This is test document 1.\", \"This is test document 2.\"]\n",
    "embs = embeddings.embed_documents(docs)\n",
    "np.array(embs).shape"
   ]
  },
  {
   "cell_type": "markdown",
   "id": "0377ca2d",
   "metadata": {
    "hidden": true
   },
   "source": [
    "Great, now that we have a way to embed all documents, let's look at vector database next."
   ]
  },
  {
   "cell_type": "markdown",
   "id": "cd1db076",
   "metadata": {
    "heading_collapsed": true
   },
   "source": [
    "### Vector database"
   ]
  },
  {
   "cell_type": "markdown",
   "id": "ebd518e6",
   "metadata": {
    "hidden": true
   },
   "source": [
    "Consider the vector database to a repository of knowledge. All our chunks get converted to embeddings and get stored in a vector-db. In our case, we are using `chroma-db`."
   ]
  },
  {
   "cell_type": "markdown",
   "id": "6a630b46",
   "metadata": {
    "hidden": true
   },
   "source": [
    "Looking at the [documentation](https://docs.trychroma.com/getting-started), we start by creating a client, and then a collection. Once we have a collection ready, it is very simple to query the collection to get back the results."
   ]
  },
  {
   "cell_type": "markdown",
   "id": "ae042aaa",
   "metadata": {
    "hidden": true
   },
   "source": [
    "```python\n",
    "results = collection.query(\n",
    "    query_texts=[\"This is a query document\"],\n",
    "    n_results=2\n",
    ")\n",
    "```"
   ]
  },
  {
   "cell_type": "markdown",
   "id": "6cc4f6a5",
   "metadata": {
    "hidden": true
   },
   "source": [
    "What goes under the hood inside langchain, is that we first instantiate a [chroma-db `collection`](https://docs.trychroma.com/getting-started). Next, we use collection’s `upsert` method passing in embeddings and texts. And this way, we have created our vector database that can be used to find nearest chunks from our documents based on \"query\" using similarity-search. "
   ]
  },
  {
   "cell_type": "raw",
   "id": "a767fc7a",
   "metadata": {
    "hidden": true
   },
   "source": [
    "::: {.callout-note}\n",
    "❓ Some questions here to ask would be\n",
    "\n",
    "1. Would results look different or better if we used Cohere Embeddings? What would be the price difference?\n",
    "2. What would the quality of results be like if we used open source models like Llama-v2 released a few days ago?\n",
    "3. What if we used `sentence-transformers`?\n",
    "4. Do we really need a vector database? Can we store the embeddings as a `np.array` and use cosine-similarity to find nearest embeddings?\n",
    ":::"
   ]
  },
  {
   "cell_type": "markdown",
   "id": "749affa3",
   "metadata": {},
   "source": [
    "### Q&A ChatBot"
   ]
  },
  {
   "cell_type": "markdown",
   "id": "227d44ff",
   "metadata": {},
   "source": [
    "So far we have looked at text-splitter, embedding model and vector database. These are the building blocks of the chatbot. But, how do we bring the building blocks together?"
   ]
  },
  {
   "cell_type": "markdown",
   "id": "0383dad8",
   "metadata": {},
   "source": [
    "In langchain, all the pieces come together in `ConversationalRetrievalChain` which is the main topic of this blog post too. We instantiate an instance of the class using `@classmethod` called `from_llm`."
   ]
  },
  {
   "cell_type": "markdown",
   "id": "6646f847",
   "metadata": {},
   "source": [
    "```python\n",
    "qa = ConversationalRetrievalChain.from_llm(\n",
    "    llm=OpenAIChat(temperature=0, max_tokens=-1),\n",
    "    chain_type=\"stuff\",\n",
    "    retriever=db.as_retriever(),\n",
    "    memory=memory,\n",
    "    get_chat_history=lambda x: x,\n",
    "    verbose=True,\n",
    ")\n",
    "response = qa({\n",
    "    \"question\": \"Why is it so hard to find a rental property in Australia in June 2023?\", \n",
    "    \"chat_history\": []\n",
    "})\n",
    "```\n",
    "There are two main things that go on inside a conversational retrieval chain.\n",
    "\n",
    "A conversational retrieval chain can take in a query, and based on the input query (question) and chat-history, it updates it to a new question. \n",
    "\n",
    "This new question is then passed to a second document chain, to find the nearest chunks (based on question) - referred to as \"context\", and this context alongside the new question get's passed to a large language model (such as `gpt-3.5-turbo` or ChatGPT), to retrieve the answer."
   ]
  },
  {
   "cell_type": "markdown",
   "id": "aaf7c371",
   "metadata": {},
   "source": [
    "So, internally - `ConversationalRetrievalChain` consists of two chains:\n",
    "\n",
    "1. A question generator chain, which updates input query/question based on chat history (`LLMChain`)\n",
    "2. And a document chain to join retrieved documents/chunks together (`StuffDocumentsChain`) "
   ]
  },
  {
   "cell_type": "raw",
   "id": "06ca30c5",
   "metadata": {},
   "source": [
    "::: {.callout-tip title=\"On `LLMChain`s\"}\n",
    "\n",
    "Good news! We have already covered `LLMChain`s in our previous blog post before [here](https://amaarora.github.io/posts/2023-07-25-llmchain.html). In essence, given a prompt, the `LLMChain` can be used to generate an answer based on the prompt. \n",
    "\n",
    "Going forward, I am going to assume that the reader has read the previous blog post and has a solid understanding of `LLMChain`s & `Chain`s in general. \n",
    "\n",
    ":::"
   ]
  },
  {
   "cell_type": "markdown",
   "id": "1667bcd5",
   "metadata": {},
   "source": [
    "From our previous blog post, we know that anytime we call any chain in langchain, the `__call__` method from `Chain` class gets invoked which in turn makes a call to `_call` method of derived class. \n",
    "\n",
    "The `ConversationalRetrievalChain` is a subclass of `BaseConversationalRetrievalChain` which in turn is a subclass of `Chain`. \n",
    "\n",
    "The `_call` method is implemented inside `BaseConversationalRetrievalChain` and it looks like below:"
   ]
  },
  {
   "cell_type": "markdown",
   "id": "e34ac088",
   "metadata": {},
   "source": [
    "```python\n",
    "    def _call(\n",
    "        self,\n",
    "        inputs: Dict[str, Any],\n",
    "        run_manager: Optional[CallbackManagerForChainRun] = None,\n",
    "    ) -> Dict[str, Any]:\n",
    "        _run_manager = run_manager or CallbackManagerForChainRun.get_noop_manager()\n",
    "        question = inputs[\"question\"]\n",
    "        get_chat_history = self.get_chat_history or _get_chat_history\n",
    "        chat_history_str = get_chat_history(inputs[\"chat_history\"])\n",
    "\n",
    "        if chat_history_str:\n",
    "            callbacks = _run_manager.get_child()\n",
    "            new_question = self.question_generator.run(\n",
    "                question=question, chat_history=chat_history_str, callbacks=callbacks\n",
    "            )\n",
    "        else:\n",
    "            new_question = question\n",
    "        accepts_run_manager = (\n",
    "            \"run_manager\" in inspect.signature(self._get_docs).parameters\n",
    "        )\n",
    "        if accepts_run_manager:\n",
    "            docs = self._get_docs(new_question, inputs, run_manager=_run_manager)\n",
    "        else:\n",
    "            docs = self._get_docs(new_question, inputs)  # type: ignore[call-arg]\n",
    "        new_inputs = inputs.copy()\n",
    "        if self.rephrase_question:\n",
    "            new_inputs[\"question\"] = new_question\n",
    "        new_inputs[\"chat_history\"] = chat_history_str\n",
    "        answer = self.combine_docs_chain.run(\n",
    "            input_documents=docs, callbacks=_run_manager.get_child(), **new_inputs\n",
    "        )\n",
    "        output: Dict[str, Any] = {self.output_key: answer}\n",
    "        if self.return_source_documents:\n",
    "            output[\"source_documents\"] = docs\n",
    "        if self.return_generated_question:\n",
    "            output[\"generated_question\"] = new_question\n",
    "        return output\n",
    "```"
   ]
  },
  {
   "cell_type": "markdown",
   "id": "d5ba45c8",
   "metadata": {},
   "source": [
    "In simple terms, first, the `question_generator` chain is called that updates the input question/query based on chat history. \n",
    "\n",
    "Next, we retrieve the documents based on our `new_question` using similarity search. \n",
    "\n",
    "These retrieved docs, then get passed to `combine_docs_chain` which combines the retrieved chunks and passes them over to a large language model (in this case `gpt-3.5-turbo`) to get back the answer."
   ]
  },
  {
   "cell_type": "markdown",
   "id": "123c045c",
   "metadata": {},
   "source": [
    "Let's understand both chains one by one in the next two sections. That way, we will be able to have a solid understanding of our conversational retrieval chain."
   ]
  },
  {
   "cell_type": "markdown",
   "id": "b9abd5eb",
   "metadata": {},
   "source": [
    "#### Question generator chain"
   ]
  },
  {
   "cell_type": "markdown",
   "id": "393e57ef",
   "metadata": {},
   "source": [
    "Let's start out with the question generator. Remeber, the question generator takes in the user question and a chat history, and based on chat history, it updates the question to a new question. \n",
    "\n",
    "Why does it do that? The question generator rephrases the original question to be a standalone question. So if it is a follow up question like \"Why did that happen?\" from the user, remember, we do not know what \"that\" is in this particular question. \n",
    "\n",
    "So, what the question generator will do, is that it will look at the chat history, and fill information for the word \"that\" to update the question to be a standalone question. So the new question could be \"Why did the rental prices increase in Australia?\" based on chat history. \n",
    "\n",
    "We will also be looking at a working example of this in our code in this section."
   ]
  },
  {
   "cell_type": "markdown",
   "id": "6541b700",
   "metadata": {},
   "source": [
    "From a code perspective, in langchain, the `question_generator` is an instance of `LLMChain`. "
   ]
  },
  {
   "cell_type": "markdown",
   "id": "09f5a307",
   "metadata": {},
   "source": [
    "In this case the prompt for the question generator (`LLMChain`) is `CONDENSE_QUESTION_PROMPT` which looks like: \n",
    "\n",
    "\n",
    "```python\n",
    "_template = \"\"\"Given the following conversation and a follow up question, rephrase the follow up question to be a standalone question, in its original language.\n",
    "\n",
    "Chat History:\n",
    "{chat_history}\n",
    "\n",
    "Follow Up Input: {question}\n",
    "Standalone question:\"\"\"\n",
    "\n",
    "CONDENSE_QUESTION_PROMPT = PromptTemplate.from_template(_template)\n",
    "```"
   ]
  },
  {
   "cell_type": "markdown",
   "id": "4472ec63",
   "metadata": {},
   "source": [
    "So taking in a `chat_history` and the original question (from the user), internally a new question get's generated! This new question is a standalone question as discussed at the start of this section."
   ]
  },
  {
   "cell_type": "markdown",
   "id": "b13205cc",
   "metadata": {},
   "source": [
    "Let's see it in action. Let's see how the original question get's updated to a new question based on `chat_history`. Remember, the first time we interact with the question answer bot, chat history is NULL, so no new question is generated. But, it works from the second time forward."
   ]
  },
  {
   "cell_type": "markdown",
   "id": "65cfc2bf",
   "metadata": {},
   "source": [
    "We can get langchain to return the newly generated question by passing in `return_generated_question=True` to the `ConversationRetrievalChain`. "
   ]
  },
  {
   "cell_type": "code",
   "execution_count": 6,
   "id": "349ed4d9",
   "metadata": {},
   "outputs": [
    {
     "data": {
      "text/plain": [
       "[HumanMessage(content='Why is it so hard to find a rental property in Australia in June 2023?', additional_kwargs={}, example=False),\n",
       " AIMessage(content='In June 2023, it is hard to find a rental property in Australia due to several factors. Firstly, vacancy rates have fallen to very low levels across the country since the pandemic, meaning there is a shortage of available rentals. This is particularly evident in cities like Sydney and Melbourne. \\n\\nAdditionally, the departure of investors from the rental market has impacted rental supply. Many investors chose to sell their rental properties during 2020 and 2021, and there are few new investors entering the market to replace them. \\n\\nOn the other hand, demand for rentals has been strong in many parts of the country, especially in inner-city areas. The return of international students, migrants, and office workers to CBDs has led to a surge in demand for rental properties. \\n\\nOverall, these factors have created a tight rental market with low vacancy rates and increasing rental prices, making it difficult for individuals to find a rental property in Australia in June 2023.', additional_kwargs={}, example=False)]"
      ]
     },
     "execution_count": 6,
     "metadata": {},
     "output_type": "execute_result"
    }
   ],
   "source": [
    "qa.memory.chat_memory.messages"
   ]
  },
  {
   "cell_type": "markdown",
   "id": "d5512958",
   "metadata": {},
   "source": [
    "So far, we have the above chat history. Let's now ask a follow up question about the home price index and say \"How has the pandemic affected this?\" and we can see the question generator in action."
   ]
  },
  {
   "cell_type": "code",
   "execution_count": 7,
   "id": "e7896a56",
   "metadata": {},
   "outputs": [
    {
     "data": {
      "text/plain": [
       "{'question': 'How has the pandemic affected this?',\n",
       " 'chat_history': 'Human: Why is it so hard to find a rental property in Australia in June 2023?\\nAI: In June 2023, it is hard to find a rental property in Australia due to several factors. Firstly, vacancy rates have fallen to very low levels across the country since the pandemic, meaning there is a shortage of available rentals. This is particularly evident in cities like Sydney and Melbourne. \\n\\nAdditionally, the departure of investors from the rental market has impacted rental supply. Many investors chose to sell their rental properties during 2020 and 2021, and there are few new investors entering the market to replace them. \\n\\nOn the other hand, demand for rentals has been strong in many parts of the country, especially in inner-city areas. The return of international students, migrants, and office workers to CBDs has led to a surge in demand for rental properties. \\n\\nOverall, these factors have created a tight rental market with low vacancy rates and increasing rental prices, making it difficult for individuals to find a rental property in Australia in June 2023.',\n",
       " 'answer': 'The given context does not provide specific information about the rental property market in Australia in June 2023.',\n",
       " 'generated_question': 'How has the pandemic affected the rental property market in Australia in June 2023?'}"
      ]
     },
     "execution_count": 7,
     "metadata": {},
     "output_type": "execute_result"
    }
   ],
   "source": [
    "qa(\"How has the pandemic affected this?\")"
   ]
  },
  {
   "cell_type": "markdown",
   "id": "a3793fc3",
   "metadata": {},
   "source": [
    "As can be seen above the original question was \"How has the pandemic affected this?\" which got updated to the `generated_question` - **\"How has the pandemic impacted the difficulty in finding a rental property in Australia in June 2023?\"**. This was done based on the chat history. "
   ]
  },
  {
   "cell_type": "markdown",
   "id": "55649f1b",
   "metadata": {},
   "source": [
    "And that's all that there is to know about the question generator! We can now move on the document chain which is `StuffDocumentsChain`."
   ]
  },
  {
   "cell_type": "markdown",
   "id": "c22d8377",
   "metadata": {},
   "source": [
    "#### Document chain"
   ]
  },
  {
   "cell_type": "markdown",
   "id": "9f6838f2",
   "metadata": {},
   "source": [
    "The stuff documents chain is available as `combine_docs_chain` attribute from the conversational retrieval chain. "
   ]
  },
  {
   "cell_type": "markdown",
   "id": "98f8ce08",
   "metadata": {},
   "source": [
    "The `StuffDocumentsChain` itself has a `LLMChain` of it's own with the prompt\n",
    "\n",
    "```python\n",
    "system_template = \"\"\"Use the following pieces of context to answer the users question. \n",
    "If you don't know the answer, just say that you don't know, don't try to make up an answer.\n",
    "----------------\n",
    "{context}\"\"\"\n",
    "messages = [\n",
    "    SystemMessagePromptTemplate.from_template(system_template),\n",
    "    HumanMessagePromptTemplate.from_template(\"{question}\"),\n",
    "]\n",
    "CHAT_PROMPT = ChatPromptTemplate.from_messages(messages)\n",
    "\n",
    "\n",
    "PROMPT_SELECTOR = ConditionalPromptSelector(\n",
    "    default_prompt=PROMPT, conditionals=[(is_chat_model, CHAT_PROMPT)]\n",
    ")\n",
    "```"
   ]
  },
  {
   "cell_type": "markdown",
   "id": "cfe45ede",
   "metadata": {},
   "source": [
    "So, we to our prompt, we pass in the context and a follow up question. It specifically says \"just say that you don't know, don't try to make up an answer.\" This is good to limit hallucination. "
   ]
  },
  {
   "cell_type": "markdown",
   "id": "843cdaf0",
   "metadata": {},
   "source": [
    "When we call the `StuffDocumentsChain`, it does two things - first it calls `combine_docs`. This method first combines the given input chunks by using separator `\\n\\n` to generate context. \n",
    "\n",
    "```python\n",
    "    def _get_inputs(self, docs: List[Document], **kwargs: Any) -> dict:\n",
    "        # Format each document according to the prompt\n",
    "        doc_strings = [format_document(doc, self.document_prompt) for doc in docs]\n",
    "        # Join the documents together to put them in the prompt.\n",
    "        inputs = {\n",
    "            k: v\n",
    "            for k, v in kwargs.items()\n",
    "            if k in self.llm_chain.prompt.input_variables\n",
    "        }\n",
    "        inputs[self.document_variable_name] = self.document_separator.join(doc_strings)\n",
    "        return inputs\n",
    "\n",
    "\n",
    "    def combine_docs(\n",
    "        self, docs: List[Document], callbacks: Callbacks = None, **kwargs: Any\n",
    "    ) -> Tuple[str, dict]:\n",
    "        inputs = self._get_inputs(docs, **kwargs)\n",
    "        # Call predict on the LLM.\n",
    "        return self.llm_chain.predict(callbacks=callbacks, **inputs), {}\n",
    "```"
   ]
  },
  {
   "cell_type": "markdown",
   "id": "55478472",
   "metadata": {},
   "source": [
    "Given our question, remember, we first find the closest chunks to the question. These chunks are then joined together using `\\n\\n` separator. "
   ]
  },
  {
   "cell_type": "raw",
   "id": "18d5436c",
   "metadata": {},
   "source": [
    "::: {.callout-note}\n",
    "\n",
    "❓ I wonder how things would look like if we numbered the various chunks and passed in the context as bullet points?\n",
    "\n",
    ":::"
   ]
  },
  {
   "cell_type": "markdown",
   "id": "ecebf033",
   "metadata": {},
   "source": [
    "Next, we just call `LLMChain`'s predict method, this generates an answer using a prompt and returns the answer."
   ]
  },
  {
   "cell_type": "markdown",
   "id": "1ab9e117",
   "metadata": {},
   "source": [
    "You know what? That's really it! I hope that now you understand completely how context based question answering chatbots work when using langchain. :)"
   ]
  },
  {
   "cell_type": "markdown",
   "id": "aac99b20",
   "metadata": {},
   "source": [
    "## Conclusion"
   ]
  },
  {
   "cell_type": "markdown",
   "id": "aa49b446",
   "metadata": {},
   "source": [
    "In [langchain](https://python.langchain.com/docs/get_started/introduction.html), once we have a vector database, below lines of code are enough to create a chatbot, that can answer user questions based on some \"context\".  \n",
    "\n",
    "```python\n",
    "import os\n",
    "from langchain.vectorstores.chroma import Chroma\n",
    "from langchain.embeddings.openai import OpenAIEmbeddings\n",
    "from langchain.chat_models import ChatOpenAI\n",
    "from langchain.chains import ConversationalRetrievalChain\n",
    "from langchain.memory import ConversationBufferMemory\n",
    "\n",
    "persist_directory = \"./db/\"\n",
    "openai_api_key = os.environ['OPENAI_API_KEY']\n",
    "embeddings = OpenAIEmbeddings(openai_api_key=openai_api_key)\n",
    "db = Chroma(persist_directory=persist_directory, embedding_function=embeddings)\n",
    "memory = ConversationBufferMemory(\n",
    "    memory_key=\"chat_history\", output_key='answer', return_messages=False)\n",
    "\n",
    "# create QA chain using `langchain`, database is used as vector store retriever to find \"context\" (using similarity search)\n",
    "qa = ConversationalRetrievalChain.from_llm(\n",
    "    llm=ChatOpenAI(temperature=0.2, model_name='gpt-3.5-turbo'),\n",
    "    chain_type=\"stuff\",\n",
    "    retriever=db.as_retriever(),\n",
    "    get_chat_history=lambda o:o,\n",
    "    memory=memory,\n",
    "    return_generated_question=True,\n",
    "    verbose=False,\n",
    ")\n",
    "```\n",
    "\n",
    "We saw all the steps in detail as part of this blog post. We also saw that the `ConversationalRetrievalChain` consists of two chains: \n",
    "\n",
    "1. Question generator chain (to generate a new standalone question based on chat history)\n",
    "2. Documents chain (to combine chunks as context and answer question based on context)\n",
    "\n",
    "We saw that both chains consist of `llm_chain` with different prompts. We even saw the two prompts in detail. \n",
    "\n",
    "And thus, we uncovered all the magic behind a conversational retrieval chain in langchain. I hope you enjoyed reading this blog post. \n",
    "\n",
    "Please feel to reach out to me on [twitter](https://twitter.com/amaarora) for any follow-up questions!"
   ]
  }
 ],
 "metadata": {
  "kernelspec": {
   "display_name": "Python 3 (ipykernel)",
   "language": "python",
   "name": "python3"
  },
  "language_info": {
   "codemirror_mode": {
    "name": "ipython",
    "version": 3
   },
   "file_extension": ".py",
   "mimetype": "text/x-python",
   "name": "python",
   "nbconvert_exporter": "python",
   "pygments_lexer": "ipython3",
   "version": "3.10.12"
  },
  "toc": {
   "base_numbering": 1,
   "nav_menu": {
    "height": "197px",
    "width": "738px"
   },
   "number_sections": true,
   "sideBar": true,
   "skip_h1_title": false,
   "title_cell": "Table of Contents",
   "title_sidebar": "Contents",
   "toc_cell": false,
   "toc_position": {},
   "toc_section_display": true,
   "toc_window_display": false
  }
 },
 "nbformat": 4,
 "nbformat_minor": 5
}

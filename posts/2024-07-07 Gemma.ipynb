{
 "cells": [
  {
   "cell_type": "raw",
   "id": "29b40b6e",
   "metadata": {},
   "source": [
    "---\n",
    "title: Gemma 2\n",
    "subtitle: Improving Open Language Models at a Practical Size\n",
    "description: | \n",
    "    In this post, we take a deep dive into the architectural components of Gemma 2 such as Grouped Query Attention, Sliding Window Attention, RoPE Embeddings, Logit soft-capping & Model-merging! \n",
    "categories:\n",
    "    - LLM\n",
    "author: Aman Arora\n",
    "date: \"07/09/2024\"\n",
    "toc: true\n",
    "number-sections: true\n",
    "title-block-banner: true\n",
    "bibliography: ../references.bib\n",
    "reference-location: margin\n",
    "citation-location: margin\n",
    "code-fold: false\n",
    "image: ../images/gemma2-intro.png\n",
    "---"
   ]
  },
  {
   "cell_type": "markdown",
   "id": "38581319",
   "metadata": {},
   "source": [
    "I am sure by now you would have seen [Gemma 2's announcement](https://blog.google/technology/developers/google-gemma-2/) or [played around with the model](https://aistudio.google.com/app/prompts/new_chat?model=gemma-2-27b-it). If you haven't yet, I highly recommend that you do. "
   ]
  },
  {
   "cell_type": "markdown",
   "id": "2224ad4b",
   "metadata": {},
   "source": [
    "![Comparison of Gemma 2 models on a variety of benchmarks](../images/gemma2-bench.png){#fig-1 fig-align=\"center\" width=500}"
   ]
  },
  {
   "cell_type": "markdown",
   "id": "5d77ca87",
   "metadata": {},
   "source": [
    "Going by the benchmarks shared in the official Gemma 2 report, the model is extremely competitive and outperforming other models relative to it's size. "
   ]
  },
  {
   "cell_type": "markdown",
   "id": "995f9f80",
   "metadata": {},
   "source": [
    "![Evaluation of Gemma 2 9B and 27B Instruction Tuned models on the Chatbot Arena](../images/gemma2-chatarena.png){#fig-2 fig-align=\"center\" width=500}\n"
   ]
  },
  {
   "cell_type": "markdown",
   "id": "928e592e",
   "metadata": {},
   "source": [
    "Also, as can be seen in @fig-2, the results from Chatbot arena for Gemma 2 models look pretty impressive, given the model sizes."
   ]
  },
  {
   "cell_type": "markdown",
   "id": "6e02028c",
   "metadata": {},
   "source": [
    "Below, I try to summarise **\"Why is Gemma 2 such a big deal?\"**:\n",
    "\n",
    "- The model comes in **practical sizes** 3B, 9B & 27B that can fit on a single GPU (at the time of writing this blog post, the 3B version is yet to be released)\n",
    "- Performance of the Gemma 2 models is on par with models twice or more it's size! \n",
    "- Model weights are open-source - thank you Google Deepmind!"
   ]
  },
  {
   "cell_type": "markdown",
   "id": "a5d3cb82",
   "metadata": {},
   "source": [
    "As part of this blog post, we will be going deeper into some of the architectural components of Gemma 2 **along with their implementation in PyTorch**. Specifically we will be looking into:\n",
    "\n",
    "1. *Grouped Query Attention* (@sec-gqa)\n",
    "2. *Sliding Window Attention* (@sec-swa)\n",
    "3. *Rotary Position Embeddings (RoPE)* (@sec-rope)\n",
    "4. *Logit soft-capping* (@sec-logits)\n",
    "5. *Model merging* (@sec-merge)"
   ]
  },
  {
   "cell_type": "raw",
   "id": "89a01d75",
   "metadata": {},
   "source": [
    "::: {.callout-tip}\n",
    "## Gentle introduction to Gemma 2\n",
    "\n",
    "For a more gentle introduction, I would like to refer the readers to [Welcome Gemma 2 - Google’s new open LLM](https://huggingface.co/blog/gemma2) by Huggingface.\n",
    ":::\n"
   ]
  },
  {
   "cell_type": "markdown",
   "id": "1d2be9ea",
   "metadata": {},
   "source": [
    "## Gemma 2 architectural details"
   ]
  },
  {
   "cell_type": "markdown",
   "id": "cfbb59a2",
   "metadata": {},
   "source": [
    "In this section, we look into the architecture details as shared in the report - [Gemma 2: Improving Open Language Models at a Practical Size](https://storage.googleapis.com/deepmind-media/gemma/gemma-2-report.pdf)."
   ]
  },
  {
   "cell_type": "markdown",
   "id": "631719e8",
   "metadata": {},
   "source": [
    "From the report:\n",
    "\n",
    "*In this work, we introduce Gemma 2, a new addition to the Gemma family of lightweight, state-of-the-art open models, ranging in scale from 2 billion to 27 billion parameters. The 9 billion and 27 billion parameter models are available today, with a 2 billion parameter model to be released shortly. In this new version, we provide several technical modifications to our architecture, such as interleaving local-global attentions (@longformer) and group-query attention (@gqa). We also train the 2B and 9B models with knowledge distillation (Hinton et al., 2015) instead of next token prediction. The resulting models deliver the best performance for their size, and even offer competitive alternatives to models that are 2-3× bigger.*"
   ]
  },
  {
   "cell_type": "raw",
   "id": "31ab8619",
   "metadata": {},
   "source": [
    "::: {.callout-note collapsible=True}\n",
    "\n",
    "I guess the key point that me hooked to Gemma 2 was the last line shared in the abstract:\n",
    "\n",
    "*The resulting models deliver the best performance for their size, and even offer competitive alternatives to models that are 2-3× bigger.*\n",
    "\n",
    "This is pretty big news, and very important for the projects that I have been recently working on. Smaller models in productions means - lower latency, lower memory requirements, faster runtime, thus, an overall reduction in computing costs.\n",
    ":::"
   ]
  },
  {
   "cell_type": "markdown",
   "id": "76a0be6b",
   "metadata": {},
   "source": [
    "The recent large language models @llama3, have been known to have dataset sizes as big as 15T tokens! It is the longer training on bigger datasets that has been key towards LLMs having continued improvements in performance.  The models are trained to predict the next tokens in a left-to-right manner. \n",
    "\n",
    "In Gemma 2, the authors trained the smaller 2.6B and 9B models using knowledge distillation. This, alongside other architecture details, has allowed Gemma 2 to have the best in class performance given it's size. Let's look into each one of the components in the following sections."
   ]
  },
  {
   "cell_type": "markdown",
   "id": "401fb634",
   "metadata": {},
   "source": [
    "## Group Query Attention {#sec-gqa}"
   ]
  },
  {
   "cell_type": "markdown",
   "id": "25d7473e",
   "metadata": {},
   "source": [
    "Grouped query attention was introduced by @gqa in 2023. The key difference as compared to the standard Multi-headed attention has been highlighted in @fig-1."
   ]
  },
  {
   "cell_type": "markdown",
   "id": "29c9f793",
   "metadata": {},
   "source": [
    "In this part of the blog post, we understand more about Group Query Attention and implement in in PyTorch code from scratch."
   ]
  },
  {
   "cell_type": "markdown",
   "id": "bfccbabe",
   "metadata": {},
   "source": [
    "For an introduction and in-depth understand to multi-head attention, I would like to refer the reader to my previous blog post on [Vision Transformer](https://amaarora.github.io/posts/2021-01-18-ViT.html) where we implement attention from scratch in PyTorch in [Section 8](https://amaarora.github.io/posts/2021-01-18-ViT.html#the-vision-transformer-in-pytorch)."
   ]
  },
  {
   "cell_type": "markdown",
   "id": "e8c3051d",
   "metadata": {},
   "source": [
    "![Group Query Attention Overview](../images/gqa.png){#fig-1 fig-align=\"center\" width=500}"
   ]
  },
  {
   "cell_type": "markdown",
   "id": "be01f3b2",
   "metadata": {},
   "source": [
    "From the [Attention is all you need](https://arxiv.org/abs/1706.03762) paper, attention mechanism was introduced using the formula: \n",
    "\n",
    "$$\n",
    "\\text{Attention}(Q, K, V) = \\text{softmax}\\left(\\frac{QK^T}{\\sqrt{d_k}}\\right)V\n",
    "$$\n"
   ]
  },
  {
   "cell_type": "markdown",
   "id": "f18ea6bc",
   "metadata": {},
   "source": [
    "In Grouped Query Attention, we reduce the number of key and value heads (thus, in a way, grouping heads together as shown in @fig-1). If the number of keys & value heads is reduced to 1, it is equivalent to Multi-Query Attention @mqa. \n",
    "\n",
    "Thus, Group Query Attention (GQA) is somewhere in the middle between MHA & MQA. Let's now implement it in PyTorch."
   ]
  },
  {
   "cell_type": "raw",
   "id": "fb03f32c",
   "metadata": {},
   "source": [
    "::: {.callout-note}\n",
    "## GQA implementation in PyTorch\n",
    "We modify the implementation from Meta's Llama-3 repo [here](https://github.com/meta-llama/llama3/blob/main/llama/model.py#L90). Basically, we removed rotary embeddings, KV caching, and model parallelization to keep the implementation to a bare minimum.\n",
    ":::"
   ]
  },
  {
   "cell_type": "code",
   "execution_count": 1,
   "id": "0bf1de4d",
   "metadata": {},
   "outputs": [],
   "source": [
    "import torch\n",
    "import torch.nn as nn\n",
    "from dataclasses import dataclass\n",
    "from typing import Optional\n",
    "import math\n",
    "import torch.nn.functional as F"
   ]
  },
  {
   "cell_type": "markdown",
   "id": "1f4cfc2c",
   "metadata": {},
   "source": [
    "Having made the imports, let's define the model arguments. We assume that the input and output dimensions inside the Decoder layer are $4096$.\n",
    "\n",
    "Below, the `n_kv_heads` defines the number of key & value heads. If the number is equal to 1, the below Attention implementation follows Multi-Query Attention. When the number is greater than 1 and less than `n_heads`, then we follow Group Query Attention as in @fig-1."
   ]
  },
  {
   "cell_type": "code",
   "execution_count": 2,
   "id": "31d9b269",
   "metadata": {},
   "outputs": [],
   "source": [
    "@dataclass\n",
    "class ModelArgs:\n",
    "    dim: int = 4096\n",
    "    n_layers: int = 32\n",
    "    n_heads: int = 32\n",
    "    n_kv_heads: Optional[int] = 8\n",
    "    vocab_size: int = -1  # defined later by tokenizer\n",
    "    multiple_of: int = 256  # make SwiGLU hidden layer size multiple of large power of 2\n",
    "    ffn_dim_multiplier: Optional[float] = None\n",
    "    norm_eps: float = 1e-5\n",
    "    max_batch_size: int = 32\n",
    "    max_seq_len: int = 2048"
   ]
  },
  {
   "cell_type": "markdown",
   "id": "b68ac3c3",
   "metadata": {},
   "source": [
    "For our implementation, we assume 8 key & value heads whereas 32 query heads."
   ]
  },
  {
   "cell_type": "code",
   "execution_count": 3,
   "id": "711c2745",
   "metadata": {},
   "outputs": [
    {
     "data": {
      "text/plain": [
       "ModelArgs(dim=4096, n_layers=32, n_heads=32, n_kv_heads=8, vocab_size=-1, multiple_of=256, ffn_dim_multiplier=None, norm_eps=1e-05, max_batch_size=32, max_seq_len=2048)"
      ]
     },
     "execution_count": 3,
     "metadata": {},
     "output_type": "execute_result"
    }
   ],
   "source": [
    "args = ModelArgs()\n",
    "args"
   ]
  },
  {
   "cell_type": "markdown",
   "id": "063682a2",
   "metadata": {},
   "source": [
    "Below, follows a standard implementation of Attention (without positional embeddings to keep it simple). We have our weight matrices for q,k & v layers defined as Linear layers. These weight matrices transform an input tensor $X$ to query $q$, key $k$ & value $v$ respectively. "
   ]
  },
  {
   "cell_type": "markdown",
   "id": "38eff8f3",
   "metadata": {},
   "source": [
    "Taking in an input of shape $(2, 32, 4096)$ which represents a batch of 2 sequences of length 32, each represented by a 4096 long vector."
   ]
  },
  {
   "cell_type": "markdown",
   "id": "60722b10",
   "metadata": {},
   "source": [
    "Upon taking the transform, given the weight matrices `self.wq`, `self.wk` & `self.wv`, the dimensions for our $q$, $k$ & $v$ matrices will be:\n",
    "\n",
    "$q$ $->$ $(2, 32, 4096)$\n",
    "\n",
    "$k$ $->$ $(2, 32, 1024)$\n",
    "\n",
    "$v$ $->$ $(2, 32, 1024)$"
   ]
  },
  {
   "cell_type": "raw",
   "id": "b25b2fea",
   "metadata": {},
   "source": [
    "::: {.callout-tip}\n",
    "## Time to take a break and \"think\" 💭\n",
    "\n",
    "This would be a great time for you to take a break and think about the dimensions. Can you reason in your head as to why $k$ and $v$ are of dimensions $(2,32,1024)$?\n",
    "\n",
    "Hint: We have fewer number of k,v heads by an order of magnitude of \"4\".\n",
    ":::"
   ]
  },
  {
   "cell_type": "code",
   "execution_count": 4,
   "id": "36e6c1d9",
   "metadata": {
    "code_folding": [
     31
    ]
   },
   "outputs": [],
   "source": [
    "class Attention(nn.Module):\n",
    "    def __init__(self, args: ModelArgs):\n",
    "        super().__init__()\n",
    "        self.n_kv_heads = args.n_heads if args.n_kv_heads is None else args.n_kv_heads\n",
    "        self.n_local_heads = args.n_heads\n",
    "        self.n_local_kv_heads = self.n_kv_heads\n",
    "        self.n_rep = self.n_local_heads // self.n_local_kv_heads\n",
    "        self.head_dim = args.dim // args.n_heads\n",
    "        self.wq = nn.Linear(args.dim, args.n_heads * self.head_dim, bias=False,)\n",
    "        self.wk = nn.Linear(args.dim, args.n_kv_heads * self.head_dim, bias=False,)\n",
    "        self.wv = nn.Linear(args.dim, args.n_kv_heads * self.head_dim, bias=False,)            \n",
    "        self.wo = nn.Linear(args.n_heads * self.head_dim, args.dim, bias=False,)\n",
    "\n",
    "    def forward(\n",
    "        self,\n",
    "        x: torch.Tensor,\n",
    "    ):\n",
    "        bsz, seqlen, _ = x.shape\n",
    "        xq, xk, xv = self.wq(x), self.wk(x), self.wv(x)\n",
    "\n",
    "        xq = xq.view(bsz, seqlen, self.n_local_heads, self.head_dim)\n",
    "        xk = xk.view(bsz, seqlen, self.n_local_kv_heads, self.head_dim)\n",
    "        xv = xv.view(bsz, seqlen, self.n_local_kv_heads, self.head_dim)\n",
    "\n",
    "        # repeat k/v heads if n_kv_heads < n_heads\n",
    "        xk = repeat_kv(xk, self.n_rep)  # (bs, seqlen, n_local_heads, head_dim)\n",
    "        xv = repeat_kv(xv, self.n_rep)  # (bs, seqlen, n_local_heads, head_dim)\n",
    "\n",
    "        xq = xq.transpose(1, 2)  # (bs, n_local_heads, seqlen, head_dim)\n",
    "        xk = xk.transpose(1, 2)\n",
    "        xv = xv.transpose(1, 2)\n",
    "        scores = torch.matmul(xq, xk.transpose(2, 3)) / math.sqrt(self.head_dim)\n",
    "\n",
    "        scores = F.softmax(scores.float(), dim=-1).type_as(xq)\n",
    "        output = torch.matmul(scores, xv)  # (bs, n_local_heads, seqlen, head_dim)\n",
    "        output = output.transpose(1, 2).contiguous().view(bsz, seqlen, -1)\n",
    "        return self.wo(output)"
   ]
  },
  {
   "cell_type": "markdown",
   "id": "9afd8255",
   "metadata": {},
   "source": [
    "The above implementation really follows @fig-1 very closely. First, we get the dimension per head `self.head_dim`, by simply doing `args.dim // args.n_heads`. Given the values, in this case, each head has a dimension of $128$.\n",
    "\n",
    "Now, after the matrix multiplication with weight matrices, we do a reshape to get our $xq$, $xk$ & $xv$ values. \n",
    "\n",
    "Can you think what their dimensions would be?"
   ]
  },
  {
   "cell_type": "raw",
   "id": "cfef6f3e",
   "metadata": {},
   "source": [
    "::: {.callout-tip} \n",
    "## Time to take a break and \"think\" 💭\n",
    "\n",
    "The dimensions for $xq$, $xk$ & $xv$ are $[2, 32, 32, 128]$, $[2, 32, 8, 128]$ & $[2, 32, 32, 128]$ respectively. Thereby, we are doing a \"grouped\" attention, because 4 queries get grouped to work a single key & value pair.\n",
    ":::"
   ]
  },
  {
   "cell_type": "markdown",
   "id": "0dba9580",
   "metadata": {},
   "source": [
    "In practice, we just repeat the $k$ & $v$ values, in this case `n_rep` is 4 to get $k$ and $v$ to have tensors of shape $[2, 32, 32, 128]$. We do this using the `repeat_kv` function below."
   ]
  },
  {
   "cell_type": "code",
   "execution_count": 5,
   "id": "2e8ef1b1",
   "metadata": {},
   "outputs": [],
   "source": [
    "def repeat_kv(x: torch.Tensor, n_rep: int) -> torch.Tensor:\n",
    "    \"\"\"torch.repeat_interleave(x, dim=2, repeats=n_rep)\"\"\"\n",
    "    bs, slen, n_kv_heads, head_dim = x.shape\n",
    "    if n_rep == 1:\n",
    "        return x\n",
    "    return (\n",
    "        x[:, :, :, None, :]\n",
    "        .expand(bs, slen, n_kv_heads, n_rep, head_dim)\n",
    "        .reshape(bs, slen, n_kv_heads * n_rep, head_dim)\n",
    "    )"
   ]
  },
  {
   "cell_type": "markdown",
   "id": "c2ec9f55",
   "metadata": {},
   "source": [
    "For a detailed explanation of this `repeat_kv` function, refer [here](https://github.com/meta-llama/llama/issues/384#issuecomment-1641359877). "
   ]
  },
  {
   "cell_type": "markdown",
   "id": "5bfcbf27",
   "metadata": {},
   "source": [
    "And that's really it. After that, we calculate our attention scores as usual, using the attention formula:\n",
    "\n",
    "\n",
    "$$\n",
    "\\text{Attention}(Q, K, V) = \\text{softmax}\\left(\\frac{QK^T}{\\sqrt{d_k}}\\right)V\n",
    "$$"
   ]
  },
  {
   "cell_type": "code",
   "execution_count": 6,
   "id": "e9203004",
   "metadata": {},
   "outputs": [
    {
     "data": {
      "text/plain": [
       "torch.Size([2, 32, 4096])"
      ]
     },
     "execution_count": 6,
     "metadata": {},
     "output_type": "execute_result"
    }
   ],
   "source": [
    "X = torch.randn(2, 32, 4096)\n",
    "attn = Attention(args)\n",
    "attn(X).shape"
   ]
  },
  {
   "cell_type": "markdown",
   "id": "b575eb9f",
   "metadata": {},
   "source": [
    "And that's really all the magic that there is behind Group Query Attention (GQA)! You have just succesfully implemented it from scratch using PyTorch yourself!"
   ]
  },
  {
   "cell_type": "markdown",
   "id": "6abcc645-a50b-45ed-a8a1-649d3798edf3",
   "metadata": {},
   "source": [
    "## Sliding Window Attention {#sec-swa}"
   ]
  },
  {
   "cell_type": "markdown",
   "id": "b6bec087",
   "metadata": {},
   "source": [
    "For a detailed explanation & implementation in PyTorch of Sliding Window Attention @longformer, I would like to refer the readers to my [previous blog post](https://amaarora.github.io/posts/2024-07-04%20SWA.html)."
   ]
  },
  {
   "cell_type": "markdown",
   "id": "898c24d5",
   "metadata": {},
   "source": [
    "The authors interleaved local and global attentions in alternating layers, which helped reduce number of parameters (for compact model-size) while mantaining performance. This is pretty unique! From the paper:\n",
    "\n",
    "*The sliding window size of local attention layers is set to 4096 tokens, while the span of the global attention layers is set to 8192 tokens.*"
   ]
  },
  {
   "cell_type": "markdown",
   "id": "b24836c4",
   "metadata": {},
   "source": [
    "## Rotary Positional Embeddings (RoPE) {#sec-rope}"
   ]
  },
  {
   "cell_type": "markdown",
   "id": "91441305",
   "metadata": {},
   "source": [
    "RoPE were introduced as part of the RoFormer architecture @roformer. From the paper itself:\n",
    "\n",
    "*The proposed Rotary Position Embedding (RoPE) encodes the absolute position with a rotation matrix and meanwhile incorporates the explicit relative position dependency in self-attention formulation. Notably, RoPE enables valuable properties, including the flexibility of sequence length, decaying inter-token dependency with increasing relative distances, and the capability of equipping the linear self-attention with relative position encoding. We evaluate the enhanced transformer with rotary position embedding, also called RoFormer, on various long text classification benchmark datasets. Our experiments show that it consistently overcomes its alternatives.*"
   ]
  },
  {
   "cell_type": "markdown",
   "id": "fe1d98e3",
   "metadata": {},
   "source": [
    "The Roformer has been integrated in the transformers library and can be used like so:\n",
    "```python\n",
    "from transformers import AutoTokenizer, RoFormerModel\n",
    "import torch\n",
    "\n",
    "tokenizer = AutoTokenizer.from_pretrained(\"junnyu/roformer_chinese_base\")\n",
    "model = RoFormerModel.from_pretrained(\"junnyu/roformer_chinese_base\")\n",
    "\n",
    "inputs = tokenizer(\"Hello, my dog is cute\", return_tensors=\"pt\")\n",
    "model(**inputs)\n",
    "```"
   ]
  },
  {
   "cell_type": "code",
   "execution_count": 2,
   "id": "01d2e807",
   "metadata": {},
   "outputs": [],
   "source": [
    "import torch.nn as nn \n",
    "import torch\n",
    "from typing import Optional\n",
    "import numpy as np"
   ]
  },
  {
   "cell_type": "markdown",
   "id": "82e7053c",
   "metadata": {},
   "source": [
    "The below are the Positional Encodings from the [Attention Is All You Need](https://arxiv.org/abs/1706.03762) by @attention paper:\n",
    "\n",
    "$$\n",
    "PE_{(pos, 2i)} = \\sin \\left( \\frac{pos}{10000^{\\frac{2i}{d_{model}}}} \\right)\n",
    "$$\n",
    "\n",
    "$$\n",
    "PE_{(pos, 2i+1)} = \\cos \\left( \\frac{pos}{10000^{\\frac{2i}{d_{model}}}} \\right)\n",
    "$$"
   ]
  },
  {
   "cell_type": "markdown",
   "id": "ad9d4eee",
   "metadata": {},
   "source": [
    "They work with absolute positions, but, not with relative positions. From Huggingface's implementation of the RoFormer architecture, this is how one could implement them in PyTorch code:"
   ]
  },
  {
   "cell_type": "code",
   "execution_count": 3,
   "id": "cb5373b2-5b3a-4bdb-8fde-eefc5498bcc0",
   "metadata": {
    "code_folding": []
   },
   "outputs": [],
   "source": [
    "class RoFormerSinusoidalPositionalEmbedding(nn.Embedding):\n",
    "    \"\"\"This module produces sinusoidal positional embeddings of any length.\"\"\"\n",
    "\n",
    "    def __init__(self, num_positions: int, embedding_dim: int, padding_idx: Optional[int] = None) -> None:\n",
    "        super().__init__(num_positions, embedding_dim)\n",
    "        self.weight = self._init_weight(self.weight)\n",
    "\n",
    "    @staticmethod\n",
    "    def _init_weight(out: nn.Parameter) -> nn.Parameter:\n",
    "        \"\"\"\n",
    "        Identical to the XLM create_sinusoidal_embeddings except features are not interleaved. The cos features are in\n",
    "        the 2nd half of the vector. [dim // 2:]\n",
    "        \"\"\"\n",
    "        n_pos, dim = out.shape\n",
    "        position_enc = np.array(\n",
    "            [[pos / np.power(10000, 2 * (j // 2) / dim) for j in range(dim)] for pos in range(n_pos)]\n",
    "        )\n",
    "        out.requires_grad = False  # set early to avoid an error in pytorch-1.8+\n",
    "        sentinel = dim // 2 if dim % 2 == 0 else (dim // 2) + 1\n",
    "        out[:, 0:sentinel] = torch.FloatTensor(np.sin(position_enc[:, 0::2]))\n",
    "        out[:, sentinel:] = torch.FloatTensor(np.cos(position_enc[:, 1::2]))\n",
    "        out.detach_()\n",
    "        return out\n",
    "\n",
    "    @torch.no_grad()\n",
    "    def forward(self, input_ids_shape: torch.Size, past_key_values_length: int = 0) -> torch.Tensor:\n",
    "        \"\"\"`input_ids_shape` is expected to be [bsz x seqlen].\"\"\"\n",
    "        bsz, seq_len = input_ids_shape[:2]\n",
    "        positions = torch.arange(\n",
    "            past_key_values_length, past_key_values_length + seq_len, dtype=torch.long, device=self.weight.device\n",
    "        )\n",
    "        return super().forward(positions)\n"
   ]
  },
  {
   "cell_type": "markdown",
   "id": "b3fa1c69",
   "metadata": {},
   "source": [
    "I don't go much into the detail of the implementation of `RoFormerSinusoidalPositionalEmbedding`, since it is pretty self-explanatory when we compare the implementation with the formula. "
   ]
  },
  {
   "cell_type": "raw",
   "id": "094a62a6",
   "metadata": {},
   "source": [
    "::: {callout-note}\n",
    "I would like to refer the readers to [The Annotated Transformer](https://nlp.seas.harvard.edu/2018/04/03/attention.html#positional-encoding) for another resource on positional encodings. \n",
    ":::"
   ]
  },
  {
   "cell_type": "markdown",
   "id": "a2b8fe87",
   "metadata": {},
   "source": [
    "There are some challenges to using absolute position encodings as above that I highlight below:\n",
    "\n",
    "1. The self-attention architecture has shown to be position agnostic. Thus, by adding positional information to the context representation, it renders them unsuitable for the linear self-attention architecture. @yun2020\n",
    "2. These encodings do-not follow the intuition that tokens close to each other should have more importance compared to tokens further away from each other. \n",
    "3. The sequences at test-time might be of different length to trainining-time, thus, leading to train-test discrepency. "
   ]
  },
  {
   "cell_type": "markdown",
   "id": "7e204ed6",
   "metadata": {},
   "source": [
    "Thus, there is a need for positional encodings that overcome the above two challenges. From the RoPE paper:\n",
    "\n",
    "*We introduce a novel method, namely Rotary Position Embedding(RoPE), to leverage the positional information into the learning process of PLMS. Specifically, RoPE encodes the absolute position with a rotation matrix and meanwhile incorporates the explicit relative position dependency in self-attention formulation. Note that the proposed RoPE is prioritized over the existing methods through valuable properties, including the sequence length flexibility, decaying inter-token dependency with increasing relative distances, and the capability of equipping the linear self-attention with relative position encoding.*"
   ]
  },
  {
   "cell_type": "markdown",
   "id": "ad1afdbc",
   "metadata": {},
   "source": [
    "By utilising a derived rotation matrix, through RoPE, the authors were able to overcome the challenges and come up with a solution that not only solves the problem in theory but these embeddings are also easy to implement in practice! Thus, the widespread use of RoPE throughout multiple LLMs. "
   ]
  },
  {
   "cell_type": "raw",
   "id": "9b4fd953",
   "metadata": {},
   "source": [
    "::: {callout-note}\n",
    "In this blog post, we do not go into the derivation of RoPE. I would like the readers to refer to another wonderful blog post by Eleuther AI that goes into the mathematical details - [Rotary Embeddings: A Relative Revolution](https://blog.eleuther.ai/rotary-embeddings/).\n",
    ":::"
   ]
  },
  {
   "cell_type": "markdown",
   "id": "585fdc9a",
   "metadata": {},
   "source": [
    "Rotary Position Embeddings can be implemented easily using the following matrix multiplication, where \n",
    "\n",
    "$x_{i}$: contextual representation of token $x$ at position $i$. (`nn.Embedding`)"
   ]
  },
  {
   "cell_type": "markdown",
   "id": "d8b6a718",
   "metadata": {},
   "source": [
    "$$\n",
    "R_{\\Theta,m}^d x = \\begin{pmatrix}\n",
    "x_1 \\\\\n",
    "x_2 \\\\\n",
    "x_3 \\\\\n",
    "x_4 \\\\\n",
    "\\vdots \\\\\n",
    "x_{d-1} \\\\\n",
    "x_d\n",
    "\\end{pmatrix} \\otimes \\begin{pmatrix}\n",
    "\\cos m\\theta_1 \\\\\n",
    "\\cos m\\theta_1 \\\\\n",
    "\\cos m\\theta_2 \\\\\n",
    "\\cos m\\theta_2 \\\\\n",
    "\\vdots \\\\\n",
    "\\cos m\\theta_{d/2} \\\\\n",
    "\\cos m\\theta_{d/2}\n",
    "\\end{pmatrix} + \\begin{pmatrix}\n",
    "-x_2 \\\\\n",
    "x_1 \\\\\n",
    "-x_4 \\\\\n",
    "x_3 \\\\\n",
    "\\vdots \\\\\n",
    "-x_d \\\\\n",
    "x_{d-1}\n",
    "\\end{pmatrix} \\otimes \\begin{pmatrix}\n",
    "\\sin m\\theta_1 \\\\\n",
    "\\sin m\\theta_1 \\\\\n",
    "\\sin m\\theta_2 \\\\\n",
    "\\sin m\\theta_2 \\\\\n",
    "\\vdots \\\\\n",
    "\\sin m\\theta_{d/2} \\\\\n",
    "\\sin m\\theta_{d/2}\n",
    "\\end{pmatrix}\n",
    "$${#eq-1}"
   ]
  },
  {
   "cell_type": "markdown",
   "id": "054c18d3",
   "metadata": {},
   "source": [
    "We can get the sinusoidal and cosine values of the matrix multiplication from `RoFormerSinusoidalPositionalEmbedding`."
   ]
  },
  {
   "cell_type": "code",
   "execution_count": 18,
   "id": "b9317457",
   "metadata": {},
   "outputs": [
    {
     "data": {
      "text/plain": [
       "torch.Size([1, 1, 9, 64])"
      ]
     },
     "execution_count": 18,
     "metadata": {},
     "output_type": "execute_result"
    }
   ],
   "source": [
    "embedding_layer = RoFormerSinusoidalPositionalEmbedding(100, 64)\n",
    "sinusoidal_pos = embedding_layer([1, 9])[None, None, :, :]\n",
    "sinusoidal_pos.shape"
   ]
  },
  {
   "cell_type": "markdown",
   "id": "dd8c6268",
   "metadata": {},
   "source": [
    "Assuming 12 attention heads, each with a dimension of 64, we can randomly initialise our query and key layer like so:"
   ]
  },
  {
   "cell_type": "code",
   "execution_count": 19,
   "id": "7e4f6d59",
   "metadata": {},
   "outputs": [
    {
     "data": {
      "text/plain": [
       "(torch.Size([1, 12, 9, 64]), torch.Size([1, 12, 9, 64]))"
      ]
     },
     "execution_count": 19,
     "metadata": {},
     "output_type": "execute_result"
    }
   ],
   "source": [
    "query_layer = torch.randn(1, 12, 9, 64)\n",
    "key_layer   = torch.randn(1, 12, 9, 64)\n",
    "query_layer.shape, key_layer.shape"
   ]
  },
  {
   "cell_type": "code",
   "execution_count": 21,
   "id": "5d6404b1",
   "metadata": {},
   "outputs": [],
   "source": [
    "def apply_rotary_position_embeddings(sinusoidal_pos, query_layer, key_layer, value_layer=None):\n",
    "    # https://kexue.fm/archives/8265\n",
    "    # sin [batch_size, num_heads, sequence_length, embed_size_per_head//2]\n",
    "    # cos [batch_size, num_heads, sequence_length, embed_size_per_head//2]\n",
    "    sin, cos = sinusoidal_pos.chunk(2, dim=-1)\n",
    "    # sin [θ0,θ1,θ2......θd/2-1] -> sin_pos [θ0,θ0,θ1,θ1,θ2,θ2......θd/2-1,θd/2-1]\n",
    "    sin_pos = torch.stack([sin, sin], dim=-1).reshape_as(sinusoidal_pos)\n",
    "    # cos [θ0,θ1,θ2......θd/2-1] -> cos_pos [θ0,θ0,θ1,θ1,θ2,θ2......θd/2-1,θd/2-1]\n",
    "    cos_pos = torch.stack([cos, cos], dim=-1).reshape_as(sinusoidal_pos)\n",
    "    # rotate_half_query_layer [-q1,q0,-q3,q2......,-qd-1,qd-2]\n",
    "    rotate_half_query_layer = torch.stack([-query_layer[..., 1::2], query_layer[..., ::2]], dim=-1).reshape_as(\n",
    "        query_layer\n",
    "    )\n",
    "    query_layer = query_layer * cos_pos + rotate_half_query_layer * sin_pos\n",
    "    # rotate_half_key_layer [-k1,k0,-k3,k2......,-kd-1,kd-2]\n",
    "    rotate_half_key_layer = torch.stack([-key_layer[..., 1::2], key_layer[..., ::2]], dim=-1).reshape_as(key_layer)\n",
    "    key_layer = key_layer * cos_pos + rotate_half_key_layer * sin_pos\n",
    "    if value_layer is not None:\n",
    "        # rotate_half_value_layer [-v1,v0,-v3,v2......,-vd-1,vd-2]\n",
    "        rotate_half_value_layer = torch.stack([-value_layer[..., 1::2], value_layer[..., ::2]], dim=-1).reshape_as(\n",
    "            value_layer\n",
    "        )\n",
    "        value_layer = value_layer * cos_pos + rotate_half_value_layer * sin_pos\n",
    "        return query_layer, key_layer, value_layer\n",
    "    return query_layer, key_layer"
   ]
  },
  {
   "cell_type": "markdown",
   "id": "c082d5bb",
   "metadata": {},
   "source": [
    "Now, one could simply apply the rotary position embeddings using the above function `apply_rotary_position_embeddings`. Note that `rotate_half_query_layer` is just the following matrix: \n",
    "\n",
    "\\begin{pmatrix}\n",
    "-x_2 \\\\\n",
    "x_1 \\\\\n",
    "-x_4 \\\\\n",
    "x_3 \\\\\n",
    "\\vdots \\\\\n",
    "-x_d \\\\\n",
    "x_{d-1}\n",
    "\\end{pmatrix}"
   ]
  },
  {
   "cell_type": "markdown",
   "id": "8986d8bd",
   "metadata": {},
   "source": [
    "Finally, by doing `query_layer = query_layer * cos_pos + rotate_half_query_layer * sin_pos`, we are replicating the matrix multiplication as in @eq-1."
   ]
  },
  {
   "cell_type": "code",
   "execution_count": 25,
   "id": "953b3ee0",
   "metadata": {},
   "outputs": [
    {
     "data": {
      "text/plain": [
       "(torch.Size([1, 12, 9, 64]), torch.Size([1, 12, 9, 64]))"
      ]
     },
     "execution_count": 25,
     "metadata": {},
     "output_type": "execute_result"
    }
   ],
   "source": [
    "query_layer, key_layer = apply_rotary_position_embeddings(sinusoidal_pos, query_layer, key_layer)\n",
    "query_layer.shape, key_layer.shape"
   ]
  },
  {
   "cell_type": "markdown",
   "id": "26bf7806",
   "metadata": {},
   "source": [
    "And that is all that there is to Rotary Position Embeddings. We have successfully re-implemented RoPE in PyTorch."
   ]
  },
  {
   "cell_type": "markdown",
   "id": "94936db4",
   "metadata": {},
   "source": [
    "## Logit soft-capping{#sec-logits}"
   ]
  },
  {
   "cell_type": "markdown",
   "id": "08f55a1f",
   "metadata": {},
   "source": [
    "Another trick that was used by the authors of Gemma 2 was logit soft capping. Generally we use `torch.clip` or `torch.clamp` which is more like hard clipping. Instead the authors utilised soft-capping which can be formulated as:"
   ]
  },
  {
   "cell_type": "markdown",
   "id": "922541c4",
   "metadata": {},
   "source": [
    "$$\\text{logits} \\leftarrow \\text{soft\\_cap} * \\tanh\\left(\\frac{\\text{logits}}{\\text{soft\\_cap}}\\right)$$\n",
    "\n"
   ]
  },
  {
   "cell_type": "markdown",
   "id": "c22dadde",
   "metadata": {},
   "source": [
    "Let's have a look at the **tanh** function and plot it using `matplotlib`."
   ]
  },
  {
   "cell_type": "code",
   "execution_count": 29,
   "id": "ba981016",
   "metadata": {},
   "outputs": [
    {
     "data": {
      "image/png": "[encoded data removed]",
      "text/plain": [
       "<Figure size 600x300 with 1 Axes>"
      ]
     },
     "metadata": {},
     "output_type": "display_data"
    }
   ],
   "source": [
    "import numpy as np\n",
    "import matplotlib.pyplot as plt\n",
    "fig,ax = plt.subplots(figsize=(6,3))\n",
    "\n",
    "def plot_tanh():\n",
    "    x = np.linspace(-5, 5, 400)\n",
    "    y = np.tanh(x)\n",
    "    plt.plot(x, y)\n",
    "    plt.title('Tanh Function')\n",
    "    plt.xlabel('x')\n",
    "    plt.ylabel('tanh(x)')\n",
    "    plt.grid(True)\n",
    "    plt.show()\n",
    "\n",
    "plot_tanh()"
   ]
  },
  {
   "cell_type": "markdown",
   "id": "4333d682",
   "metadata": {},
   "source": [
    "Looking at the `tanh` function, one can notice that it limits the upper and lower bounds between -1 & 1, with $+∞$ approaching 1, and $-∞$ approaching -1. It's pretty easy to implement logit soft capping in PyTorch."
   ]
  },
  {
   "cell_type": "markdown",
   "id": "67ed6fe8",
   "metadata": {},
   "source": [
    "```python\n",
    "import torch\n",
    "\n",
    "def soft_cap_logits(logits, soft_cap):\n",
    "    scaled_logits = logits / soft_cap\n",
    "    t = torch.tanh(scaled_logits)\n",
    "    return soft_cap * t\n",
    "\n",
    "\n",
    "logits = torch.tensor([0.5, 1.0, 2.0, 3.0])\n",
    "soft_cap = 2.0\n",
    "capped_logits = soft_cap_logits(logits, soft_cap)\n",
    "```"
   ]
  },
  {
   "cell_type": "markdown",
   "id": "ae4bf605",
   "metadata": {},
   "source": [
    "The authors capped the attention logits at 50.0 and final logits at 30.0."
   ]
  },
  {
   "cell_type": "raw",
   "id": "87b7fc77",
   "metadata": {},
   "source": [
    "::: {.callout-warning}\n",
    "From the paper:\n",
    "\n",
    "*Note that attention logit soft-capping is, at the time of publication, incompatible with common FlashAttention implementations, and we have removed this feature from libraries that use FlashAttention, namely, the HuggingFace transformers library and the vLLM implementation.*\n",
    ":::"
   ]
  },
  {
   "cell_type": "markdown",
   "id": "4c42e8b0",
   "metadata": {},
   "source": [
    "## Model merging {#sec-merge}"
   ]
  },
  {
   "cell_type": "markdown",
   "id": "e93e9762",
   "metadata": {},
   "source": [
    "From the paper:\n",
    "\n",
    "*Model merging. We average models from experiments run with different hyperparameters @warp .*"
   ]
  },
  {
   "cell_type": "markdown",
   "id": "9103c725",
   "metadata": {},
   "source": [
    "I would like to refer the readers to mergekit (@mergekit), which is an open-source library for merging pre-trained Large Language Models. "
   ]
  },
  {
   "cell_type": "markdown",
   "id": "bf36e786",
   "metadata": {},
   "source": [
    "From the [Gemma 2 introduction blog by Huggingface](https://huggingface.co/blog/gemma2#model-merging):\n",
    "\n",
    "*According to the Technical Report, Gemma 2 used Warp, a new merging technique that merges models in three distinct stages:\n",
    "\n",
    "- *Exponential Moving Average (EMA): This is applied during the reinforcement learning (RL) fine-tuning process.*\n",
    "- *Spherical Linear intERPolation (SLERP): This is applied after the RL fine-tuning of multiple policies.*\n",
    "- *Linear Interpolation Towards Initialization (LITI): This stage is applied after the SLERP stage.*"
   ]
  },
  {
   "cell_type": "markdown",
   "id": "6c899a1d",
   "metadata": {},
   "source": [
    "Please refer to [one of my previous blogs](https://wandb.ai/wandb_fc/pytorch-image-models/reports/Revisiting-ResNets-Improved-Training-and-Scaling-Strategies--Vmlldzo2NDE3NTM#ema-of-weights) for an in-depth explanation and implementation in PyTorch on **Exponential Moving Average**."
   ]
  },
  {
   "cell_type": "markdown",
   "id": "a4944b16",
   "metadata": {},
   "source": [
    "Going by the **mergekit** repository, merging models is as simple as running this one line of code:\n",
    "\n",
    "`mergekit-yaml path/to/your/config.yml ./output-model-directory [--cuda] [--lazy-unpickle] [--allow-crimes] [... other options]`"
   ]
  },
  {
   "cell_type": "raw",
   "id": "751a9f55",
   "metadata": {},
   "source": [
    "::: {.callout-note}\n",
    "\n",
    "I haven't personally tried model-merging yet, but will share results shortly in a future blog post. Intuitively it feels very similar to model ensembling. \n",
    ":::"
   ]
  },
  {
   "cell_type": "markdown",
   "id": "eaf5362e",
   "metadata": {},
   "source": [
    "## Conclusion "
   ]
  },
  {
   "cell_type": "markdown",
   "id": "54b3636b",
   "metadata": {},
   "source": [
    "As part of the following blog post we took a deep dive into grouped query qttention, sliding window attention, RoPE embeddings, logits soft-capping & also model-merging. \n",
    "\n",
    "We did it all with the motivation from Gemma 2. The idea was to dig deeper into the Gemma 2 architecture. I hope that through this blog post, the reader is able to understand more about the Gemma 2 architecture in detail. \n",
    "\n",
    "Thank you for your time!"
   ]
  }
 ],
 "metadata": {
  "kernelspec": {
   "display_name": "Python 3 (ipykernel)",
   "language": "python",
   "name": "python3"
  },
  "language_info": {
   "codemirror_mode": {
    "name": "ipython",
    "version": 3
   },
   "file_extension": ".py",
   "mimetype": "text/x-python",
   "name": "python",
   "nbconvert_exporter": "python",
   "pygments_lexer": "ipython3",
   "version": "3.11.9"
  },
  "toc": {
   "base_numbering": 1,
   "nav_menu": {},
   "number_sections": true,
   "sideBar": true,
   "skip_h1_title": false,
   "title_cell": "Table of Contents",
   "title_sidebar": "Contents",
   "toc_cell": false,
   "toc_position": {},
   "toc_section_display": true,
   "toc_window_display": false
  }
 },
 "nbformat": 4,
 "nbformat_minor": 5
}

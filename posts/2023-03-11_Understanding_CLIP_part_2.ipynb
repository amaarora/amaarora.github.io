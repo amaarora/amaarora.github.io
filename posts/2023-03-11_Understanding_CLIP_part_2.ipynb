{
 "cells": [
  {
   "cell_type": "raw",
   "id": "fc0e271a",
   "metadata": {},
   "source": [
    "---\n",
    "title: The Annotated CLIP (Part-2)\n",
    "subtitle: Learning Transferable Visual Models From Natural Language Supervision\n",
    "description: | \n",
    "    This post is part-2 of the two series blog posts on CLIP (for part-1, please refer to my previous blog post). In this blog, we present the PyTorch code behind CLIP for model building and training.  This blog post is in itself a working Jupyter Notebook. \n",
    "categories:\n",
    "  - Multimodal\n",
    "  - Transformers\n",
    "  - Clip\n",
    "author: Aman Arora\n",
    "date: \"03/11/2023\"\n",
    "toc: true\n",
    "number-sections: true\n",
    "title-block-banner: true\n",
    "bibliography: ../references.bib\n",
    "reference-location: margin\n",
    "citation-location: margin\n",
    "code-fold: true\n",
    "image: ../images/clip.png\n",
    "---"
   ]
  },
  {
   "cell_type": "markdown",
   "id": "d5eae02a",
   "metadata": {},
   "source": [
    "## Introduction {#sec-intro}\n",
    " \n",
    "As part of this blog post we will be uncovering the inner workings of CLIP - [Learning Transferable Visual Models From Natural Language Supervision](https://arxiv.org/abs/2103.00020) by looking at it's PyTorch implementation. For a gentle introduction to CLIP, please refer to [part-1](https://amaarora.github.io/posts/2023-03-06_Understanding_CLIP.html) of the blog."
   ]
  },
  {
   "cell_type": "raw",
   "id": "50a892f1",
   "metadata": {},
   "source": [
    "::: {.callout-note}\n",
    "All code referenced in this blog post has been copied (and sometimes modified) from the wonderful [Open CLIP repository](https://github.com/mlfoundations/open_clip).\n",
    "\n",
    "Also note that code-folding has been set in this blog post, so you will have to unfold code to have a look at it. :)\n",
    ":::"
   ]
  },
  {
   "cell_type": "markdown",
   "id": "3a3390af",
   "metadata": {},
   "source": [
    "In this blog post, we will be covering the following with references to further resources where necessary:\n",
    "\n",
    "1. *Data download and preparation*\n",
    "2. *CLIP architecture in code* \n",
    "3. *CLIP image encoder*\n",
    "4. *CLIP text encoder* \n",
    "5. *CLIP loss function*"
   ]
  },
  {
   "cell_type": "markdown",
   "id": "cd5dfefb",
   "metadata": {},
   "source": [
    "> From the [open clip repository](https://github.com/mlfoundations/open_clip), I found the most complex part to be data preparation. That in itself could be a separate blog post, and therefore, I have only covered it partly here as the main focus is to look at the CLIP architecture. **As part of this blog post we are going to assume that there is some magic function that can read the input images and texts and return tensors of shape `[N, 3, 224, 224]` & `[N, 77]` respectively, where $N$ is the batch size.**"
   ]
  },
  {
   "cell_type": "markdown",
   "id": "b7e7614b",
   "metadata": {},
   "source": [
    "## Prerequisites"
   ]
  },
  {
   "cell_type": "markdown",
   "id": "bddd30b1",
   "metadata": {},
   "source": [
    "As part of this blog post, I am going to assume that the reader has a good understanding of the ResNet architecture (@resnet) and Vision Transformer (@vit).\n",
    "\n",
    "I am also going to assume that the reader also has a good basic understanding of CLIP after having read [part-1](https://amaarora.github.io/posts/2023-03-06_Understanding_CLIP.html) of this blog series. "
   ]
  },
  {
   "cell_type": "markdown",
   "id": "14bc9243",
   "metadata": {},
   "source": [
    "If the reader would like a refresher on the ResNet architecture, please refer to the following video from paper reading group, that I hosted at [Weights and Biases](https://wandb.ai/)."
   ]
  },
  {
   "cell_type": "raw",
   "id": "601e9cab",
   "metadata": {},
   "source": [
    "<div style=\"text-align: center;\"><iframe width=\"560\" height=\"315\" src=\"https://www.youtube.com/embed/nspf00KpU-g\" title=\"YouTube video player\" frameborder=\"0\" allow=\"accelerometer; autoplay; clipboard-write; encrypted-media; gyroscope; picture-in-picture; web-share\" allowfullscreen></iframe></div>"
   ]
  },
  {
   "cell_type": "markdown",
   "id": "06494c6a",
   "metadata": {},
   "source": [
    "Also, the authors use Vision Transformer as one of the backbones in Image Encoder. For complete understanding of ViT with PyTorch code implementation, refer to my previous blog post (in collaboration with [Dr Habib Bukhari](https://twitter.com/dr_hb_ai)) - [Vision Transformer](https://amaarora.github.io/posts/2021-01-18-ViT.html). We won't be covering ViT architecture as part of this blog post."
   ]
  },
  {
   "cell_type": "markdown",
   "id": "c97e2576",
   "metadata": {},
   "source": [
    "For the text encoder, the authors used the GPT-2 architecture. I have previously covered the entirety of the model with PyTorch code implementation at [The annotated GPT-2](https://amaarora.github.io/posts/2020-02-18-annotatedGPT2.html)."
   ]
  },
  {
   "cell_type": "markdown",
   "id": "d5e72dd0",
   "metadata": {},
   "source": [
    "Now, with prerequisites and introductions out of the way, let's get started with the first item which is **\"Data download and preparation\".**"
   ]
  },
  {
   "cell_type": "markdown",
   "id": "40c46cdc",
   "metadata": {},
   "source": [
    "## Data download using `img2dataset` and preparation using `webdataset`"
   ]
  },
  {
   "cell_type": "markdown",
   "id": "d75fb4f1",
   "metadata": {},
   "source": [
    "Before we can start training any models, we need data. In this part of the blog post we are looking at data preparation part of CLIP. Remember, that CLIP was trained on 400M (image, text) pairs. \n",
    "\n",
    "From the paper: \n",
    "\n",
    "*We create a new dataset of 400 million (image, text) pairs and demonstrate that a simplified version of ConVIRT trained from scratch, which we call CLIP, for Contrastive Language-Image Pre-training, is an efficient method of learning from natural language supervision.*"
   ]
  },
  {
   "cell_type": "markdown",
   "id": "da85153b",
   "metadata": {},
   "source": [
    "So, how does one create these image text pairs in practice? One of the easiest ways to train CLIP using Open CLIP is to generate the dataset in the form of `webdataset` using `img2dataset`."
   ]
  },
  {
   "cell_type": "markdown",
   "id": "abf6449f",
   "metadata": {},
   "source": [
    "**We will only be creating a tiny version consisting of only 1,000 (image, text) and not the complete 400M dataset used in CLIP.**"
   ]
  },
  {
   "cell_type": "code",
   "execution_count": 9,
   "id": "9a7e03b9",
   "metadata": {},
   "outputs": [
    {
     "name": "stdout",
     "output_type": "stream",
     "text": [
      "Starting the downloading of this file\n",
      "Sharding file number 1 of 1 called /home/ubuntu/GIT_REPOS/data/img2dataset/tests/test_files/test_1000.parquet"
     ]
    },
    {
     "name": "stderr",
     "output_type": "stream",
     "text": [
      "\r",
      "0it [00:00, ?it/s]"
     ]
    },
    {
     "name": "stdout",
     "output_type": "stream",
     "text": [
      "\n",
      "File sharded in 10 shards\n",
      "Downloading starting now, check your bandwidth speed (with bwm-ng)your cpu (with htop), and your disk usage (with iotop)!\n"
     ]
    },
    {
     "name": "stderr",
     "output_type": "stream",
     "text": [
      "10it [00:31,  3.19s/it]\n"
     ]
    },
    {
     "name": "stdout",
     "output_type": "stream",
     "text": [
      "worker  - success: 0.840 - failed to download: 0.150 - failed to resize: 0.010 - images per sec: 12 - count: 100\n",
      "total   - success: 0.840 - failed to download: 0.150 - failed to resize: 0.010 - images per sec: 12 - count: 100\n",
      "worker  - success: 0.850 - failed to download: 0.140 - failed to resize: 0.010 - images per sec: 12 - count: 100\n",
      "total   - success: 0.845 - failed to download: 0.145 - failed to resize: 0.010 - images per sec: 23 - count: 200\n",
      "worker  - success: 0.850 - failed to download: 0.140 - failed to resize: 0.010 - images per sec: 8 - count: 100\n",
      "total   - success: 0.847 - failed to download: 0.143 - failed to resize: 0.010 - images per sec: 23 - count: 300\n",
      "worker  - success: 0.850 - failed to download: 0.150 - failed to resize: 0.000 - images per sec: 9 - count: 100\n",
      "total   - success: 0.848 - failed to download: 0.145 - failed to resize: 0.007 - images per sec: 30 - count: 400\n",
      "worker  - success: 0.840 - failed to download: 0.160 - failed to resize: 0.000 - images per sec: 10 - count: 100\n",
      "total   - success: 0.846 - failed to download: 0.148 - failed to resize: 0.006 - images per sec: 38 - count: 500\n",
      "worker  - success: 0.830 - failed to download: 0.160 - failed to resize: 0.010 - images per sec: 10 - count: 100\n",
      "total   - success: 0.843 - failed to download: 0.150 - failed to resize: 0.007 - images per sec: 31 - count: 600\n",
      "worker  - success: 0.830 - failed to download: 0.150 - failed to resize: 0.020 - images per sec: 9 - count: 100\n",
      "total   - success: 0.841 - failed to download: 0.150 - failed to resize: 0.009 - images per sec: 35 - count: 700\n",
      "worker  - success: 0.880 - failed to download: 0.100 - failed to resize: 0.020 - images per sec: 6 - count: 100\n",
      "total   - success: 0.846 - failed to download: 0.144 - failed to resize: 0.010 - images per sec: 40 - count: 800\n",
      "worker  - success: 0.840 - failed to download: 0.150 - failed to resize: 0.010 - images per sec: 4 - count: 100\n",
      "total   - success: 0.846 - failed to download: 0.144 - failed to resize: 0.010 - images per sec: 34 - count: 900\n",
      "worker  - success: 0.900 - failed to download: 0.100 - failed to resize: 0.000 - images per sec: 4 - count: 100\n",
      "total   - success: 0.851 - failed to download: 0.140 - failed to resize: 0.009 - images per sec: 38 - count: 1000\n",
      "CPU times: user 71.6 ms, sys: 51 ms, total: 123 ms\n",
      "Wall time: 32.6 s\n"
     ]
    }
   ],
   "source": [
    "%%time\n",
    "# !pip install img2dataset \n",
    "from img2dataset import download\n",
    "import shutil\n",
    "import os\n",
    "\n",
    "output_dir = os.path.abspath(\"sample\")\n",
    "\n",
    "if os.path.exists(output_dir):\n",
    "    shutil.rmtree(output_dir)\n",
    "\n",
    "download(\n",
    "    processes_count=os.cpu_count(),\n",
    "    thread_count=os.cpu_count()*2,\n",
    "    url_list=\"/home/ubuntu/GIT_REPOS/data/img2dataset/tests/test_files/test_1000.parquet\",\n",
    "    image_size=256,\n",
    "    output_folder=output_dir,\n",
    "    output_format=\"webdataset\",\n",
    "    input_format=\"parquet\",\n",
    "    url_col=\"URL\",\n",
    "    caption_col=\"TEXT\",\n",
    "    enable_wandb=False,\n",
    "    number_sample_per_shard=100, \n",
    "    distributor=\"multiprocessing\",\n",
    ")"
   ]
  },
  {
   "cell_type": "markdown",
   "id": "343d0238",
   "metadata": {},
   "source": [
    "So it takes ~35 seconds to create the tiny dataset on my 8 core machine. Please refer to [img2dataset](https://github.com/rom1504/img2dataset) for information on other available (image, text) pair datasets."
   ]
  },
  {
   "cell_type": "markdown",
   "id": "ffa07821",
   "metadata": {},
   "source": [
    "But, what do the downloads look like? Let's find out. "
   ]
  },
  {
   "cell_type": "code",
   "execution_count": 10,
   "id": "3edb5749",
   "metadata": {},
   "outputs": [
    {
     "data": {
      "text/plain": [
       "array([PosixPath('sample/00000.tar'), PosixPath('sample/00001.tar'),\n",
       "       PosixPath('sample/00002.tar'), PosixPath('sample/00003.tar'),\n",
       "       PosixPath('sample/00004.tar'), PosixPath('sample/00005.tar'),\n",
       "       PosixPath('sample/00006.tar'), PosixPath('sample/00007.tar'),\n",
       "       PosixPath('sample/00008.tar'), PosixPath('sample/00009.tar')],\n",
       "      dtype=object)"
      ]
     },
     "execution_count": 10,
     "metadata": {},
     "output_type": "execute_result"
    }
   ],
   "source": [
    "import numpy as np\n",
    "from pathlib import Path\n",
    "\n",
    "np.array(sorted(list(Path('./sample/').glob('*tar'))))"
   ]
  },
  {
   "cell_type": "markdown",
   "id": "dfceb518",
   "metadata": {},
   "source": [
    "As we can see above, the script from `img2dataset` downloads `{00000...00009).tar` files. What's in these `.tar` files? Answer lies in the documentation of [webdataset](https://webdataset.github.io/webdataset/). I won't be covering more details as part of this blog post as we have a lot to cover stil!"
   ]
  },
  {
   "cell_type": "raw",
   "id": "a0c56b34",
   "metadata": {},
   "source": [
    "::: {.callout-tip}\n",
    "## Further reading\n",
    "\n",
    "One key thing that I haven't covered as part of this blog post, is that how do these `.tar` files get converted to inputs to the CLIP model? Let me share briefly here and point to the right directions. \n",
    "\n",
    "First, a data pipeline is created using `wds` (webdataset) package. You can find the pipeline being created [here](https://github.com/mlfoundations/open_clip/blob/main/src/training/data.py#L349).\n",
    "\n",
    "This pipeline takes in a tokenizer that's `HFTokenizer`, see [here](https://github.com/mlfoundations/open_clip/blob/main/src/training/main.py#L337). This `HFTokenizer` tokenizes the input and returns `input_ids` of `context_length` = 77.\n",
    ":::"
   ]
  },
  {
   "cell_type": "markdown",
   "id": "84d2fad7",
   "metadata": {},
   "source": [
    "## Training"
   ]
  },
  {
   "cell_type": "markdown",
   "id": "5e5bc581",
   "metadata": {},
   "source": [
    "Now, to train a CLIP model of your choice on a single GPU, simply clone the [Open Clip repository](https://github.com/mlfoundations/open_clip) and run the following command in your terminal in the `src/` directory:\n",
    "\n",
    "```python\n",
    "python -m training.main \\\n",
    "    --save-frequency 1 \\\n",
    "    --zeroshot-frequency 1 \\\n",
    "    --train-data=\"/home/ubuntu/GIT_REPOS/amaarora.github.io/posts/sample/{00000..00009}.tar\" \\\n",
    "    --warmup 10 \\\n",
    "    --batch-size=16 \\\n",
    "    --lr=1e-3 \\\n",
    "    --wd=0.1 \\\n",
    "    --epochs=30 \\\n",
    "    --workers=8 \\\n",
    "    --model RN50 \\\n",
    "    --train-num-samples 852\n",
    "```"
   ]
  },
  {
   "cell_type": "markdown",
   "id": "23274a3c",
   "metadata": {},
   "source": [
    "This should kick off training on your machine. Now, that we can train CLIP models on our own machines, let's look at some of the details of training scrip and the CLIP architecture. "
   ]
  },
  {
   "cell_type": "markdown",
   "id": "690ec454",
   "metadata": {},
   "source": [
    "## CLIP Architecture"
   ]
  },
  {
   "cell_type": "markdown",
   "id": "556bd2cd",
   "metadata": {},
   "source": [
    "![Summary of CLIP approach](../images/clip.png){#fig-clip fig-align=\"center\" width=500}"
   ]
  },
  {
   "cell_type": "markdown",
   "id": "9b27a54d",
   "metadata": {},
   "source": [
    "From @fig-clip, we can see that we have a text encoder and image encoder. These encoders are responsible for taking in the image and the text and and converting them to an embedding space.\n",
    "\n",
    "As mentioned in @sec-intro, we will assume that there is some magic function that can read the `.tar` files and return tensors of shape `[1, 3, 224, 224]` for each image, and `[1, 77]`, for each text. \n",
    "\n",
    "These inputs then get encoded to embedding space using image and text encoder respectively. \n",
    "\n",
    "The image encoder encodes images to embeddings $I_1, I_2, I_2 ... I_N$, and the text encoder encodes respective image captions to $T_1, T_2, T_3 ... T_N$."
   ]
  },
  {
   "cell_type": "raw",
   "id": "e7277b9c",
   "metadata": {},
   "source": [
    "::: {.callout-note}\n",
    "In practice, the embedding size in CLIP is 1024. Therefore is our batch size $N = 8$, the 8 input images will get encoded to a tensor of shape $(8, 1024)$, and also the 8 input texts will get encoded to a tensor of shape $(8, 1024)$. \n",
    ":::\n"
   ]
  },
  {
   "cell_type": "markdown",
   "id": "9c3e9abf",
   "metadata": {},
   "source": [
    "Let's start by looking at the inputs and outputs of the overall CLIP model."
   ]
  },
  {
   "cell_type": "markdown",
   "id": "79c433fc",
   "metadata": {},
   "source": [
    "First, we load the config, as part of this blog post we will work with `ResNet-50` architecture as an example. So, let's start by loading the corresponding config."
   ]
  },
  {
   "cell_type": "code",
   "execution_count": 11,
   "id": "ad393768",
   "metadata": {},
   "outputs": [],
   "source": [
    "import json, torch\n",
    "from open_clip.model import CLIP"
   ]
  },
  {
   "cell_type": "code",
   "execution_count": 12,
   "id": "31e6f76f",
   "metadata": {},
   "outputs": [
    {
     "data": {
      "text/plain": [
       "{'embed_dim': 1024,\n",
       " 'vision_cfg': {'image_size': 224,\n",
       "  'layers': [3, 4, 6, 3],\n",
       "  'width': 64,\n",
       "  'patch_size': None},\n",
       " 'text_cfg': {'context_length': 77,\n",
       "  'vocab_size': 49408,\n",
       "  'width': 512,\n",
       "  'heads': 8,\n",
       "  'layers': 12}}"
      ]
     },
     "execution_count": 12,
     "metadata": {},
     "output_type": "execute_result"
    }
   ],
   "source": [
    "with open('../../open_clip/src/open_clip/model_configs/RN50.json') as o:\n",
    "    cfg = json.load(o)\n",
    "cfg"
   ]
  },
  {
   "cell_type": "code",
   "execution_count": 13,
   "id": "0f7e2bc7",
   "metadata": {},
   "outputs": [
    {
     "data": {
      "text/plain": [
       "(torch.Size([1, 1024]),\n",
       " torch.Size([1, 1024]),\n",
       " tensor(14.2857, device='cuda:0', grad_fn=<ExpBackward0>))"
      ]
     },
     "execution_count": 13,
     "metadata": {},
     "output_type": "execute_result"
    }
   ],
   "source": [
    "device = 'cuda' if torch.cuda.is_available() else 'cpu'\n",
    "model = CLIP(**cfg).to(device)\n",
    "image = torch.randn(1, 3, 224, 224).to(device)\n",
    "text  = torch.randint(low=0, high=cfg['text_cfg']['vocab_size'], size=(1, 77)).to(device)\n",
    "image_features, text_features, logit_scale   = model(image, text)\n",
    "image_features.shape, text_features.shape, logit_scale"
   ]
  },
  {
   "cell_type": "markdown",
   "id": "2f783815",
   "metadata": {},
   "source": [
    "As can be seen above, the model expects `image` and `text` as inputs where in this case:\n",
    "\n",
    "```python\n",
    "image = torch.randn(1, 3, 224, 224).to(device)\n",
    "text  = torch.randint(low=0, high=cfg['text_cfg']['vocab_size'], size=(1, 77)).to(device)\n",
    "```\n",
    "\n",
    "You might recognize image shape easily - it represents 1 image with 3 channels (RGB) and (H,W) = 224.\n",
    "For text, each text is tokenized to max length 77. The integer numbers represent `token_id` with max value of `cfg['text_cfg']['vocab_size']`.\n",
    "\n",
    "Makes sense so far? "
   ]
  },
  {
   "cell_type": "markdown",
   "id": "63a4eed6",
   "metadata": {},
   "source": [
    "As for the outputs, the model returns three outputs - `image_features`, `text_features` and `logit_scale`. \n",
    "\n",
    "`logit_scale` has been covered in more detail in @sec-contrastive-loss of this blog post. For now, think of it as a learnable parameter during model training. \n",
    "\n",
    "As for `image_features` & `text_features`, these are the respective embeddings $I_1, I_2, I_2 ... I_N$, and the text encoder encodes respective image captions to $T_1, T_2, T_3 ... T_N$ with reference to @fig-clip."
   ]
  },
  {
   "cell_type": "raw",
   "id": "cbe77d26",
   "metadata": {},
   "source": [
    "::: {.callout-tip}\n",
    "## Tip\n",
    "\n",
    "Before you proceed further, remember, the encoders are responsible for encoding the input image and text to embeddings of dimension - $1024$. \n",
    "\n",
    "We could have also done something like: \n",
    "\n",
    "```python\n",
    "device = 'cuda' if torch.cuda.is_available() else 'cpu'\n",
    "model = CLIP(**cfg).to(device)\n",
    "image = torch.randn(1, 3, 224, 224).to(device)\n",
    "text  = torch.randint(low=0, high=cfg['text_cfg']['vocab_size'], size=(1, 77)).to(device)\n",
    "image_features = model.encode_image(image)\n",
    "text_features = model.encode_text(text)\n",
    "```\n",
    ":::"
   ]
  },
  {
   "cell_type": "markdown",
   "id": "a3c80a86",
   "metadata": {},
   "source": [
    "Next, let's look at the respective architectures of Image and Text encoders in more detail. "
   ]
  },
  {
   "cell_type": "markdown",
   "id": "43dd050f",
   "metadata": {},
   "source": [
    "## Image Encoder {#sec-img-encoder}"
   ]
  },
  {
   "cell_type": "markdown",
   "id": "72037737",
   "metadata": {},
   "source": [
    "From the paper:"
   ]
  },
  {
   "cell_type": "markdown",
   "id": "6f8c9487",
   "metadata": {},
   "source": [
    "*We consider two different architectures for the image encoder. For the first, we use ResNet-50 (@resnet) as the base architecture for the image encoder due to its widespread adoption and proven performance. We make several modifications to the original version using the ResNetD improvements from @bag_of_tricks and the antialiased rect-2 blur pooling from @blurpool. We also replace the global average pooling layer with an attention pooling mechanism. The attention pooling is implemented as a single layer of “transformer-style” multi-head QKV attention where the query is conditioned on the global average-pooled representation of the image. For the second architecture, we experiment with the recently introduced Vision Transformer (ViT) (@vit). We closely follow their implementation with only the minor modification of adding an additional layer normalization to the combined patch and position embeddings before the transformer and use a slightly different initialization scheme.*"
   ]
  },
  {
   "cell_type": "markdown",
   "id": "fc4494e4",
   "metadata": {},
   "source": [
    "### Modified ResNet"
   ]
  },
  {
   "cell_type": "markdown",
   "id": "82d8872b",
   "metadata": {},
   "source": [
    "Let's start with the first architecture. \n",
    "\n",
    "*For the first, we use ResNet-50 (@resnet) as the base architecture for the image encoder due to its widespread adoption and proven performance. We make several modifications to the original version using the ResNetD improvements from @bag_of_tricks and the antialiased rect-2 blur pooling from @blurpool. We also replace the global average pooling layer with an attention pooling mechanism. The attention pooling is implemented as a single layer of “transformer-style” multi-head QKV attention where the query is conditioned on the global average-pooled representation of the image.*"
   ]
  },
  {
   "cell_type": "markdown",
   "id": "78841ff5",
   "metadata": {},
   "source": [
    "There are 3 major changes as mentioned to the ResNet architecture in CLIP: \n",
    "\n",
    "- There are now 3 \"stem\" convolutions as opposed to 1, with an average pool instead of a max pool.\n",
    "- Performs anti-aliasing strided convolutions, where an avgpool is prepended to convolutions with stride > 1\n",
    "- The final pooling layer is a QKV attention instead of an average pool"
   ]
  },
  {
   "cell_type": "markdown",
   "id": "483f851a",
   "metadata": {},
   "source": [
    "#### ResNet stem {#sec-resnet-stem}"
   ]
  },
  {
   "cell_type": "markdown",
   "id": "70b0fae1",
   "metadata": {},
   "source": [
    "Let's look at all of them one by one in code. First, we start with *There are now 3 \"stem\" convolutions as opposed to 1, with an average pool instead of a max pool.*"
   ]
  },
  {
   "cell_type": "markdown",
   "id": "22d6eda9",
   "metadata": {},
   "source": [
    "![Overview of ResNet architecture](../images/resnet-arch.png){#fig-resnet-arch fig-align=\"center\" width=500}"
   ]
  },
  {
   "cell_type": "markdown",
   "id": "72079aec",
   "metadata": {},
   "source": [
    "In the vanilla ResNet architecture, the stem consists of a 7x7 stride-2 convolution. This is what the stem looks like in the vanilla ResNet architecture. \n",
    "\n",
    "```python\n",
    "class VanillaResNet:\n",
    "    def __init__(...):\n",
    "        self.stem = nn.Conv2d(in_chans, inplanes, kernel_size=7, stride=2, padding=3, bias=False)\n",
    "```"
   ]
  },
  {
   "cell_type": "markdown",
   "id": "80a2f6b8",
   "metadata": {},
   "source": [
    "However, in the paper @bag_of_tricks, where at the time, the authors raised *ResNet-50’s top-1 validation accuracy from 75.3% to 79.29% on ImageNet*. From the paper, one of the tweaks used in the architecture: \n",
    "\n",
    "*A 7 × 7 convolution is 5.4 times more expensive than a 3 × 3 convolution. So this tweak replacing the 7 × 7 convolution in the input stem with three conservative 3 × 3 convolutions.*"
   ]
  },
  {
   "cell_type": "markdown",
   "id": "51139555",
   "metadata": {},
   "source": [
    "![Overview of ResNet tweak](../images/resnet-tweak.png){#fig-resnet-tweak fig-align=\"center\"}"
   ]
  },
  {
   "cell_type": "raw",
   "id": "453fa7ab",
   "metadata": {},
   "source": [
    "::: {.callout-warning}\n",
    "On top of replacing $7x7$ stride-2 convolution with 3 consecutive $3x3$ convolutions, the authors also replaced max pooling with average pooling, but image above shows max pooling as it has been directly copied from @bag_of_tricks.\n",
    ":::"
   ]
  },
  {
   "cell_type": "markdown",
   "id": "f8e48356",
   "metadata": {},
   "source": [
    "In code this looks like: \n",
    "\n",
    "```python \n",
    "class ModifiedResNet:\n",
    "    def __init__(...):\n",
    "        self.conv1 = nn.Conv2d(3, width // 2, kernel_size=3, stride=2, padding=1, bias=False)\n",
    "        self.bn1 = nn.BatchNorm2d(width // 2)\n",
    "        self.act1 = nn.ReLU(inplace=True)\n",
    "        self.conv2 = nn.Conv2d(width // 2, width // 2, kernel_size=3, padding=1, bias=False)\n",
    "        self.bn2 = nn.BatchNorm2d(width // 2)\n",
    "        self.act2 = nn.ReLU(inplace=True)\n",
    "        self.conv3 = nn.Conv2d(width // 2, width, kernel_size=3, padding=1, bias=False)\n",
    "        self.bn3 = nn.BatchNorm2d(width)\n",
    "        self.act3 = nn.ReLU(inplace=True)\n",
    "        self.avgpool = nn.AvgPool2d(2)\n",
    "\n",
    "\n",
    "    def stem(self, x):\n",
    "        x = self.act1(self.bn1(self.conv1(x)))\n",
    "        x = self.act2(self.bn2(self.conv2(x)))\n",
    "        x = self.act3(self.bn3(self.conv3(x)))\n",
    "        x = self.avgpool(x)\n",
    "        return x\n",
    "    \n",
    "    def forward(self, x):\n",
    "        x = self.stem(x)\n",
    "```    "
   ]
  },
  {
   "cell_type": "markdown",
   "id": "a615d2c6",
   "metadata": {},
   "source": [
    "#### Blur Pool"
   ]
  },
  {
   "cell_type": "markdown",
   "id": "9b9ffffc",
   "metadata": {},
   "source": [
    "The next change is to use `BlurPooling` - *Performs anti-aliasing strided convolutions, where an avgpool is prepended to convolutions with stride > 1*. This change has been adopted from @blurpool."
   ]
  },
  {
   "cell_type": "markdown",
   "id": "469df1e5",
   "metadata": {},
   "source": [
    "In this section I will introduce BlurPooling and share how it is implemented in the `ModifiedResNet` architecture. "
   ]
  },
  {
   "cell_type": "raw",
   "id": "5ed92846",
   "metadata": {},
   "source": [
    "<iframe width=\"560\" height=\"315\" src=\"https://www.youtube.com/embed/HjewNBZz00w\" title=\"YouTube video player\" frameborder=\"0\" allow=\"accelerometer; autoplay; clipboard-write; encrypted-media; gyroscope; picture-in-picture; web-share\" allowfullscreen></iframe>"
   ]
  },
  {
   "cell_type": "markdown",
   "id": "b1ec49ce",
   "metadata": {},
   "source": [
    "From the research paper, \n",
    "\n",
    "*Modern convolutional networks are not shiftinvariant, as small input shifts or translations can cause drastic changes in the output. Commonly used downsampling methods, such as max-pooling, strided-convolution, and averagepooling, ignore the sampling theorem. The wellknown signal processing fix is anti-aliasing by low-pass filtering before downsampling.*"
   ]
  },
  {
   "cell_type": "markdown",
   "id": "f05b5625",
   "metadata": {},
   "source": [
    "Blur Pooling in CLIP has been implemented inside the `Bottleneck` block as below: \n",
    "\n",
    "```python \n",
    "\n",
    "class Bottleneck(nn.Module):\n",
    "    expansion = 4\n",
    "\n",
    "    def __init__(self, inplanes, planes, stride=1):\n",
    "        super().__init__()\n",
    "        self.stem = create_stem() # stem consists of 3 3x3 convs instead of 1 7x7 stride-2 conv\n",
    "        self.downsample = None\n",
    "        self.stride = stride\n",
    "        if stride > 1 or inplanes != planes * Bottleneck.expansion:\n",
    "            # downsampling layer is prepended with an avgpool, and the subsequent convolution has stride 1\n",
    "            self.downsample = nn.Sequential(OrderedDict([\n",
    "                (\"-1\", nn.AvgPool2d(stride)),\n",
    "                (\"0\", nn.Conv2d(inplanes, planes * self.expansion, 1, stride=1, bias=False)),\n",
    "                (\"1\", nn.BatchNorm2d(planes * self.expansion))\n",
    "            ]))\n",
    "\n",
    "    def forward(self, x: torch.Tensor):\n",
    "        identity = x\n",
    "        out = self.stem()\n",
    "        if self.downsample is not None:\n",
    "            identity = self.downsample(x)\n",
    "\n",
    "        out += identity\n",
    "        out = self.act3(out)\n",
    "        return out\n",
    " ```"
   ]
  },
  {
   "cell_type": "markdown",
   "id": "bc26ffca",
   "metadata": {},
   "source": [
    "Now the blurring occurs in `downsample`. Previously, as can be seen in @fig-resnet-arch, this downsample layer would be a stride-2 $1x1$ convolution. \n",
    "\n",
    "In `ModifiedResnet`, this downsample consists of: \n",
    "\n",
    "```python\n",
    "self.downsample = nn.Sequential(OrderedDict([\n",
    "        (\"-1\", nn.AvgPool2d(stride)),\n",
    "        (\"0\", nn.Conv2d(inplanes, planes * self.expansion, 1, stride=1, bias=False)),\n",
    "        (\"1\", nn.BatchNorm2d(planes * self.expansion))\n",
    "    ]))\n",
    "```\n",
    "\n",
    "Where, the convolution is stride-1. "
   ]
  },
  {
   "cell_type": "markdown",
   "id": "59686908",
   "metadata": {},
   "source": [
    "The blurring occurs in `nn.AvgPool2d(stride)`. How? See example below:"
   ]
  },
  {
   "cell_type": "code",
   "execution_count": 19,
   "id": "2ddb6a5f",
   "metadata": {},
   "outputs": [
    {
     "data": {
      "image/png": "[encoded data removed]",
      "text/plain": [
       "<Figure size 1500x800 with 2 Axes>"
      ]
     },
     "metadata": {},
     "output_type": "display_data"
    }
   ],
   "source": [
    "import torch.nn as nn \n",
    "from PIL import Image\n",
    "import numpy as np \n",
    "import torch\n",
    "import matplotlib.pyplot as plt\n",
    "\n",
    "pool = nn.AvgPool2d(kernel_size=2)\n",
    "img  = np.array(Image.open('../images/clip.png'))\n",
    "x    = torch.tensor(img, dtype=torch.float64).permute(2, 0, 1)\n",
    "out  = pool(pool(x))\n",
    "\n",
    "fig, ax = plt.subplots(1, 2, figsize=(15, 8))\n",
    "ax[0].imshow(x.int().permute(1,2,0))\n",
    "ax[0].set_title(\"Input image before average pooling\");\n",
    "ax[1].imshow(out.int().permute(1,2,0))\n",
    "ax[1].set_title(\"Input image after average pooling\");"
   ]
  },
  {
   "cell_type": "markdown",
   "id": "04e49e62",
   "metadata": {},
   "source": [
    "As can be seen above, passing the input image through a `nn.AvgPool2d` blurs the image, and therefore, anti-aliases the input as per @blurpool. As a result, the resulting model is translation invariant. "
   ]
  },
  {
   "cell_type": "markdown",
   "id": "a03bfc20",
   "metadata": {},
   "source": [
    "#### Final pooling layer"
   ]
  },
  {
   "cell_type": "markdown",
   "id": "2a9e762a",
   "metadata": {},
   "source": [
    "This brings us to the final change in `ModifiedResnet`. "
   ]
  },
  {
   "cell_type": "markdown",
   "id": "cf030f77",
   "metadata": {},
   "source": [
    "The last change in the network architecture is to use QKV attention instead of an average pool. From the paper:\n",
    "\n",
    "*We also replace the global average pooling layer with an attention pooling mechanism. The attention pooling is implemented as a single layer of “transformer-style” multi-head QKV attention where the query is conditioned on the global average-pooled representation of the image.*"
   ]
  },
  {
   "cell_type": "code",
   "execution_count": 14,
   "id": "6a23ae4a",
   "metadata": {},
   "outputs": [],
   "source": [
    "import torch\n",
    "import torch.nn as nn\n",
    "\n",
    "class AttentionPool2d(nn.Module):\n",
    "    def __init__(self, spacial_dim: int, embed_dim: int, num_heads: int, output_dim: int = None):\n",
    "        super().__init__()\n",
    "        self.positional_embedding = nn.Parameter(torch.randn(spacial_dim ** 2 + 1, embed_dim) / embed_dim ** 0.5)\n",
    "        self.k_proj = nn.Linear(embed_dim, embed_dim)\n",
    "        self.q_proj = nn.Linear(embed_dim, embed_dim)\n",
    "        self.v_proj = nn.Linear(embed_dim, embed_dim)\n",
    "        self.c_proj = nn.Linear(embed_dim, output_dim or embed_dim)\n",
    "        self.num_heads = num_heads\n",
    "\n",
    "    def forward(self, x):\n",
    "        x = x.reshape(x.shape[0], x.shape[1], x.shape[2] * x.shape[3]).permute(2, 0, 1)  # NCHW -> (HW)NC\n",
    "        x = torch.cat([x.mean(dim=0, keepdim=True), x], dim=0)  # (HW+1)NC\n",
    "        x = x + self.positional_embedding[:, None, :].to(x.dtype)  # (HW+1)NC\n",
    "        x, _ = F.multi_head_attention_forward(\n",
    "            query=x, key=x, value=x,\n",
    "            embed_dim_to_check=x.shape[-1],\n",
    "            num_heads=self.num_heads,\n",
    "            q_proj_weight=self.q_proj.weight,\n",
    "            k_proj_weight=self.k_proj.weight,\n",
    "            v_proj_weight=self.v_proj.weight,\n",
    "            in_proj_weight=None,\n",
    "            in_proj_bias=torch.cat([self.q_proj.bias, self.k_proj.bias, self.v_proj.bias]),\n",
    "            bias_k=None,\n",
    "            bias_v=None,\n",
    "            add_zero_attn=False,\n",
    "            dropout_p=0.,\n",
    "            out_proj_weight=self.c_proj.weight,\n",
    "            out_proj_bias=self.c_proj.bias,\n",
    "            use_separate_proj_weight=True,\n",
    "            training=self.training,\n",
    "            need_weights=False\n",
    "        )\n",
    "\n",
    "        return x[0]"
   ]
  },
  {
   "cell_type": "markdown",
   "id": "84aa7497",
   "metadata": {},
   "source": [
    "As can be seen from the code above, we perform multi head self-attention from @attention, on `x`. One key thing to note above in the `forward` method is : \n",
    "\n",
    "```python\n",
    "x = torch.cat([x.mean(dim=0, keepdim=True), x], dim=0)  # (HW+1)NC\n",
    "```\n",
    "\n",
    "This corresponds to *\"query is conditioned on the global average-pooled representation of the image\"* from the paper because the final output that is returned is `x[0]` and `x[0]` is global average pooled representation of the image. "
   ]
  },
  {
   "cell_type": "markdown",
   "id": "fef0f5ec",
   "metadata": {},
   "source": [
    "### Modified ViT"
   ]
  },
  {
   "cell_type": "markdown",
   "id": "92f7b53b",
   "metadata": {},
   "source": [
    "From the paper:\n",
    "\n",
    "*For the second architecture, we experiment with the recently introduced Vision Transformer (ViT) (@vit). We closely follow their implementation with only the minor modification of adding an additional layer normalization to the combined patch and position embeddings before the transformer and use a slightly different initialization scheme.*"
   ]
  },
  {
   "cell_type": "markdown",
   "id": "d0903243",
   "metadata": {},
   "source": [
    "Since the architecture is very similar to vanilla Vision Transformer, with a very minor change of adding LayerNorm after combining Patch embeddings and positional embeddings, I will not be covering the architecture in detail in this blog post. "
   ]
  },
  {
   "cell_type": "markdown",
   "id": "0ee7b85f",
   "metadata": {},
   "source": [
    "For reference to ViT, please refer to my previous blog post that covers the architecture in detail with PyTorch code implementation - [Vision Transformer](https://amaarora.github.io/posts/2021-01-18-ViT.html)"
   ]
  },
  {
   "cell_type": "markdown",
   "id": "9f3e40f5",
   "metadata": {},
   "source": [
    "Having covered both Image encoders used in CLIP architecture, it is now time to move on to the text encoder. "
   ]
  },
  {
   "cell_type": "markdown",
   "id": "85271924",
   "metadata": {},
   "source": [
    "## Text Encoder"
   ]
  },
  {
   "cell_type": "markdown",
   "id": "d519089e",
   "metadata": {},
   "source": [
    "In this section, let's look at the text encoder of CLIP architecture. From the paper: \n",
    "\n",
    "*The text encoder is a Transformer (@attention) with the architecture modifications described in Radford et al. (2019). As a base size we use a 63M-parameter 12layer 512-wide model with 8 attention heads. The transformer operates on a lower-cased byte pair encoding (BPE) representation of the text with a 49,152 vocab size (Sennrich et al., 2015). For computational efficiency, the max sequence length was capped at 76. The text sequence is bracketed with [SOS] and [EOS] tokens and the activations of the highest layer of the transformer at the [EOS] token are treated as the feature representation of the text which is layer normalized and then linearly projected into the multi-modal embedding space. Masked self-attention was used in the text encoder to preserve the ability to initialize with a pre-trained language model or add language modeling as an auxiliary objective, though exploration of this is left as future work.*"
   ]
  },
  {
   "cell_type": "markdown",
   "id": "da3e488e",
   "metadata": {},
   "source": [
    "I have previously covered the complete GPT-2 architecture used as text encoder in my previous blog post at [The annotated GPT-2](https://amaarora.github.io/posts/2020-02-18-annotatedGPT2.html) and therefore, won't be covering it here in this blog post. "
   ]
  },
  {
   "cell_type": "markdown",
   "id": "17a1989c",
   "metadata": {},
   "source": [
    "## Contrastive Loss  {#sec-contrastive-loss}"
   ]
  },
  {
   "cell_type": "markdown",
   "id": "25afbc4a",
   "metadata": {},
   "source": [
    "One thing that I was most interested in when I started to write the CLIP blog post was to look at Contrastive Loss and understand it in PyTorch code. \n",
    "\n",
    "In this section, that is exactly what we will be doing. \n",
    "\n",
    "If you remember from @sec-img-encoder, the images get encoded as image features to shape `torch.Size([16, 1024])` and texts get encoded to text features of shape `torch.Size([16, 1024])`. "
   ]
  },
  {
   "cell_type": "markdown",
   "id": "2d65701b",
   "metadata": {},
   "source": [
    "Let's look at the inputs and outputs of `ClipLoss` before implementing ourselves."
   ]
  },
  {
   "cell_type": "code",
   "execution_count": 15,
   "id": "f9cbfe79",
   "metadata": {},
   "outputs": [],
   "source": [
    "import torch\n",
    "import torch.nn.functional as F\n",
    "import numpy as np \n",
    "import torch.nn as nn\n",
    "from open_clip.loss import ClipLoss"
   ]
  },
  {
   "cell_type": "code",
   "execution_count": 16,
   "id": "029b9a8d",
   "metadata": {},
   "outputs": [
    {
     "data": {
      "text/plain": [
       "tensor(134.1310, grad_fn=<DivBackward0>)"
      ]
     },
     "execution_count": 16,
     "metadata": {},
     "output_type": "execute_result"
    }
   ],
   "source": [
    "image_features = torch.randn(16, 1024)\n",
    "text_features  = torch.randn(16, 1024)\n",
    "loss_fn        = ClipLoss()\n",
    "logit_scale    = nn.Parameter(torch.tensor(np.log(1/0.07)))\n",
    "loss = loss_fn(image_features, text_features, logit_scale)\n",
    "loss"
   ]
  },
  {
   "cell_type": "markdown",
   "id": "51a99b53",
   "metadata": {},
   "source": [
    "One thing you'll notice is that the ClipLoss expects a parameter called `logit_scale`. Now, what is this `logit_scale` parameter? \n",
    "\n",
    "From the paper: \n",
    "\n",
    "*The learnable temperature parameter $τ$ was initialized to the equivalent of 0.07 from (@rotation_equivalent_cnn) and clipped to prevent scaling the logits by more than 100 which we found necessary to prevent training instability.*\n",
    "\n",
    "But, rather than being initialised to $0.07$, this temperature parameter $τ$ get's initialized as `nn.Parameter(torch.tensor(np.log(1/0.07)))`. For further explanation, see this issue [here](https://github.com/openai/CLIP/issues/46)."
   ]
  },
  {
   "cell_type": "markdown",
   "id": "502aee2b",
   "metadata": {},
   "source": [
    "Now, having looked at the inputs and outputs and also `logit_scale`, it is time to look at the source code. Remember contrastive loss and what it does from [part-1](https://amaarora.github.io/posts/2023-03-06_Understanding_CLIP.html#summary-with-pseudo-code) of the blog post? As a quick revision, let me re-post the image here too. "
   ]
  },
  {
   "cell_type": "markdown",
   "id": "4152e010",
   "metadata": {},
   "source": [
    "![Cosine similarity between text and image features](../images/cosine_similarity.png){#fig-cosine-similarity}"
   ]
  },
  {
   "cell_type": "markdown",
   "id": "9836d3c1",
   "metadata": {},
   "source": [
    "Contrastive loss is trying to maximise the cosine similarity on the diagonal and minimise it elsewhere. But, how? In pseudo-code this looked something like: \n",
    "\n",
    "```python\n",
    "# symmetric loss function \n",
    "labels = np.arange(n) \n",
    "loss_i = cross_entropy_loss(logits, labels, axis=0) \n",
    "loss_t = cross_entropy_loss(logits, labels, axis=1) \n",
    "loss = (loss_i + loss_t)/2\n",
    "```"
   ]
  },
  {
   "cell_type": "markdown",
   "id": "2277e721",
   "metadata": {},
   "source": [
    "Once, we have logits, which is the $8 x 8$ matrix as in @fig-cosine-similarity above, we calculate Cross Entropy Loss once for `axis=0` and once for `axis=1`, this way, we are trying to match the diagonal to corresponding image and text because the labels are aligned on both the axis."
   ]
  },
  {
   "cell_type": "markdown",
   "id": "14976888",
   "metadata": {},
   "source": [
    "But, how does this look like in code? Let's see. "
   ]
  },
  {
   "cell_type": "raw",
   "id": "65216e5e",
   "metadata": {},
   "source": [
    "::: {.callout-note}\n",
    "The below implementation of `ClipLoss` is a minimalistic version of the complete implementation from [open clip](https://github.com/mlfoundations/open_clip/blob/main/src/open_clip/loss.py#L66).\n",
    ":::"
   ]
  },
  {
   "cell_type": "code",
   "execution_count": 17,
   "id": "e2e36618",
   "metadata": {},
   "outputs": [],
   "source": [
    "class ClipLoss(nn.Module):\n",
    "    def __init__(\n",
    "            self,\n",
    "    ):\n",
    "        super().__init__()\n",
    "\n",
    "    def get_ground_truth(self, device, num_logits) -> torch.Tensor:\n",
    "        labels = torch.arange(num_logits, device=device, dtype=torch.long)\n",
    "        return labels\n",
    "\n",
    "    def get_logits(self, image_features, text_features, logit_scale):\n",
    "        logits_per_image = logit_scale * image_features @ text_features.T\n",
    "        logits_per_text = logit_scale * text_features @ image_features.T        \n",
    "        return logits_per_image, logits_per_text\n",
    "\n",
    "    def forward(self, image_features, text_features, logit_scale, output_dict=False):\n",
    "        device = image_features.device\n",
    "        logits_per_image, logits_per_text = self.get_logits(image_features, text_features, logit_scale)\n",
    "        labels = self.get_ground_truth(device, logits_per_image.shape[0])\n",
    "        total_loss = (\n",
    "            F.cross_entropy(logits_per_image, labels) +\n",
    "            F.cross_entropy(logits_per_text, labels)\n",
    "        ) / 2\n",
    "        return {\"contrastive_loss\": total_loss}"
   ]
  },
  {
   "cell_type": "code",
   "execution_count": 18,
   "id": "d7d21bde",
   "metadata": {},
   "outputs": [
    {
     "data": {
      "text/plain": [
       "{'contrastive_loss': tensor(140.2225, grad_fn=<DivBackward0>)}"
      ]
     },
     "execution_count": 18,
     "metadata": {},
     "output_type": "execute_result"
    }
   ],
   "source": [
    "image_features = torch.randn(16, 1024)\n",
    "text_features  = torch.randn(16, 1024)\n",
    "loss_fn        = ClipLoss()\n",
    "logit_scale    = nn.Parameter(torch.tensor(np.log(1/0.07)))\n",
    "loss = loss_fn(image_features, text_features, logit_scale)\n",
    "loss"
   ]
  },
  {
   "cell_type": "markdown",
   "id": "375f9cf5",
   "metadata": {},
   "source": [
    "So, how does the above implementation match pseudo-code? \n",
    "\n",
    "Let's start with labels. Since the labels are aligned, that is the $0th$ image on `axis=0` corresponds to $0th$ text on `axis=1`, therefore, we can just say that `labels = torch.arange(num_logits, device=device, dtype=torch.long)`. In this case the value of labels comes out to be `tensor([ 0,  1,  2,  3,  4,  5,  6,  7], device='cuda:0')` based on @fig-cosine-similarity. By minimising Cross Entropy loss for these labels once for `axis=0` and once for `axis=1`, we are making sure that cosine-similarity on the diagonal is maximum and lower otherwise. \n",
    "\n",
    "In code (as opposed to pseudo-code), rather than minimising cross entropy for `axis=0`, and `axis=1`, we calculate: \n",
    "\n",
    "```python \n",
    "    logits_per_image = logit_scale * image_features @ text_features.T\n",
    "    logits_per_text = logit_scale * text_features @ image_features.T    \n",
    "```\n",
    "\n",
    "This is same as calculating logits once for `axis=1`, and once for `axis=0`, therefore, our total loss is: \n",
    "\n",
    "```python \n",
    "    total_loss = (\n",
    "        F.cross_entropy(logits_per_image, labels) +\n",
    "        F.cross_entropy(logits_per_text, labels)\n",
    "    ) / 2\n",
    "```\n",
    "\n",
    "This is equivalent to pseudo code from paper: \n",
    "```python\n",
    "    labels = np.arange(n) \n",
    "    loss_i = cross_entropy_loss(logits, labels, axis=0) \n",
    "    loss_t = cross_entropy_loss(logits, labels, axis=1) \n",
    "    loss = (loss_i + loss_t)/2\n",
    "```"
   ]
  },
  {
   "cell_type": "markdown",
   "id": "de5c1fea",
   "metadata": {},
   "source": [
    "## Conclusion"
   ]
  },
  {
   "cell_type": "markdown",
   "id": "0770bc18",
   "metadata": {},
   "source": [
    "As part of this blog post I built upon [part-1](https://amaarora.github.io/posts/2023-03-06_Understanding_CLIP.html) of this blog series on CLIP. \n",
    "\n",
    "We also briefly looked at data preparation as (image, text) pairs for CLIP training using `img2dataset` and data loading using `webdataset` packages. \n",
    "\n",
    "We took a deep dive into the Image Encoder section and looked at all the three tweaks in `ModifiedResnet` compared to vanilla ResNet architecture. \n",
    "\n",
    "Finally, we also took a deep dive in contrastive loss and compared the actual PyTorch implementation with pseudo-code from the CLIP research paper. \n",
    "\n",
    "If you enjoyed reading this blog post, please consider subscribing to my blog for more!"
   ]
  }
 ],
 "metadata": {
  "kernelspec": {
   "display_name": "Python 3 (ipykernel)",
   "language": "python",
   "name": "python3"
  },
  "language_info": {
   "codemirror_mode": {
    "name": "ipython",
    "version": 3
   },
   "file_extension": ".py",
   "mimetype": "text/x-python",
   "name": "python",
   "nbconvert_exporter": "python",
   "pygments_lexer": "ipython3",
   "version": "3.10.9"
  }
 },
 "nbformat": 4,
 "nbformat_minor": 5
}

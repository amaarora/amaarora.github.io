{
 "cells": [
  {
   "cell_type": "raw",
   "id": "83b8afa7",
   "metadata": {},
   "source": [
    "---\n",
    "title: Ahead of Times - Issue 2 (May 01 - May 07)\n",
    "subtitle: Second issue of the weekly newsletter to help you stay ahead of the times with latest news & updates in the field of AI. \n",
    "description: | \n",
    "    As part of this newsletter, I share with you key updates, projects, GitHub repos, research trends, research papers in the field of Computer Vision, Large Language Models and Stable Diffusion. \n",
    "categories:\n",
    "  - Newsletter\n",
    "author: Aman Arora\n",
    "date: \"05/08/2023\"\n",
    "toc: true\n",
    "number-sections: true\n",
    "title-block-banner: true\n",
    "bibliography: ../references.bib\n",
    "reference-location: margin\n",
    "code-fold: true\n",
    "image: ../images/newsletter-theme.png\n",
    "---"
   ]
  },
  {
   "cell_type": "markdown",
   "id": "30a86476",
   "metadata": {},
   "source": [
    "![Ahead of Times - Issue 1](../images/newsletter-theme.png)"
   ]
  },
  {
   "cell_type": "markdown",
   "id": "7cc8ab9e",
   "metadata": {},
   "source": [
    "## Introduction {#sec-intro}\n",
    "\n",
    "Hello and welcome back to the second issue of the weekly newsletter - **\"Ahead of Times\"**! \n",
    "\n",
    "Last week, [I announced the first issue](https://amaarora.github.io/posts/2023-05-02-Ahead_of_times-Issue_1.html) and the start of this newsletter to help you cut through the noise and help you keep up to date with the latest advancements in the field of AI. \n",
    "\n",
    "So, let's get started!"
   ]
  },
  {
   "cell_type": "markdown",
   "id": "6696dea9",
   "metadata": {},
   "source": [
    "## The first open-source commercially usable LLMs are here!"
   ]
  },
  {
   "cell_type": "markdown",
   "id": "1e4d5793",
   "metadata": {},
   "source": [
    "Last week, Together & MosaicML released their own commerically usable open-source LLMs on the same day! What does this mean for everyone? You can now use LLMs that match LLAMA's quality at work for commercial use-cases! This is huge!"
   ]
  },
  {
   "cell_type": "markdown",
   "id": "f776dc0a",
   "metadata": {},
   "source": [
    "Check out Together's release post - [Releasing 3B and 7B RedPajama-INCITE family of models including base, instruction-tuned & chat models](https://www.together.xyz/blog/redpajama-models-v1), which have been trained on the RedPajama base dataset based on the LLaMA paper!"
   ]
  },
  {
   "cell_type": "markdown",
   "id": "6aa69ce9",
   "metadata": {},
   "source": [
    "From the post: \n",
    "\n",
    "> Today’s release includes our first models trained on the RedPajama base dataset: a 3 billion and a 7B parameter base model that aims to replicate the LLaMA recipe as closely as possible. In addition we are releasing fully open-source instruction-tuned and chat models."
   ]
  },
  {
   "cell_type": "markdown",
   "id": "9f349fa2",
   "metadata": {},
   "source": [
    "Also, MosaicML announced MPT-7B, which is a transformer trained from scratch on 1T tokens of text and code! [Introducing MPT-7B: A New Standard for Open-Source, Commercially Usable LLMs](https://www.mosaicml.com/blog/mpt-7b)."
   ]
  },
  {
   "cell_type": "markdown",
   "id": "31af8e73",
   "metadata": {},
   "source": [
    "From the post: \n",
    "\n",
    "> MPT-7B was trained on the MosaicML platform in 9.5 days with zero human intervention at a cost of ~$200k."
   ]
  },
  {
   "cell_type": "markdown",
   "id": "1c3f222f",
   "metadata": {},
   "source": [
    "Curious how the RedPajama effort by Together compared to MosaicML and other LLMs such as StableLM? MosaicML also released a benchmark table that I share below."
   ]
  },
  {
   "cell_type": "markdown",
   "id": "21e6d365",
   "metadata": {},
   "source": [
    "![](https://pbs.twimg.com/media/FvZuWQ6X0AI4tRT?format=jpg&name=large)"
   ]
  },
  {
   "cell_type": "markdown",
   "id": "86848dcf",
   "metadata": {},
   "source": [
    "From the benchmark table released, it appears that `MPT-7B` is currectly the best performing large language model in the category across various benchmarks."
   ]
  },
  {
   "cell_type": "markdown",
   "id": "43384552",
   "metadata": {},
   "source": [
    "## When A.I. Chatbots Hallucinate"
   ]
  },
  {
   "cell_type": "markdown",
   "id": "b04c1960",
   "metadata": {},
   "source": [
    "The article called [\"When A.I. Chatbots Hallucinate\"](https://www.nytimes.com/2023/05/01/business/ai-chatbots-hallucinatation.html) published in NYT (New York Times) is a great introduction to term called \"Hallucination\". \n",
    "\n",
    "In simple words, 'hallucination' could also be referred to 'incorrect completion of the input query' by the chatbot. "
   ]
  },
  {
   "cell_type": "markdown",
   "id": "0f00bd81",
   "metadata": {},
   "source": [
    "I would recommend this article specifically to readers who would like a very gentle introduction to [Large Language Models](https://www.nytimes.com/2020/11/24/science/artificial-intelligence-ai-gpt3.html) (LLMs), hallucination, prompting, [Google Bard](https://bard.google.com/), ChatGPT, [Microsoft Bing](https://blogs.bing.com/search/march_2023/Confirmed-the-new-Bing-runs-on-OpenAI%E2%80%99s-GPT-4) & [GPT-4](https://openai.com/product/gpt-4)."
   ]
  },
  {
   "cell_type": "markdown",
   "id": "c32c4441",
   "metadata": {},
   "source": [
    "## ‘The Godfather of A.I.’ Leaves Google and Warns of Danger Ahead"
   ]
  },
  {
   "cell_type": "markdown",
   "id": "5265fc8d",
   "metadata": {},
   "source": [
    "Geoffrey Hinton, one of the pioneers in the field of artificial intelligence, quit Google. From the [article published in NYT](https://www.nytimes.com/2023/05/01/technology/ai-google-chatbot-engineer-quits-hinton.html):   \n",
    "\n",
    "*Dr. Hinton said he has quit his job at Google, where he has worked for more than a decade and became one of the most respected voices in the field, so he can freely speak out about the risks of A.I.*"
   ]
  },
  {
   "cell_type": "markdown",
   "id": "cb867733",
   "metadata": {},
   "source": [
    "Some concerns shared by Geoffrey Hinton in the NYT article:\n",
    "\n",
    ">\"He is also worried that A.I. technologies will in time upend the job market.\"\n",
    "\n",
    ">\"The idea that this stuff could actually get smarter than people is not so far off\""
   ]
  },
  {
   "cell_type": "markdown",
   "id": "13dbf1ae",
   "metadata": {},
   "source": [
    "Also, I would refer the reader to [Deep learning pioneer Geoffrey Hinton has quit Google](https://www.technologyreview.com/2023/05/01/1072478/deep-learning-pioneer-geoffrey-hinton-quits-google/) for more reading on the same. "
   ]
  },
  {
   "cell_type": "markdown",
   "id": "42f73f96",
   "metadata": {},
   "source": [
    "Dr. Hinton also later clarified on Twitter:"
   ]
  },
  {
   "cell_type": "raw",
   "id": "5b1f2ddd",
   "metadata": {},
   "source": [
    "<blockquote class=\"twitter-tweet\"><p lang=\"en\" dir=\"ltr\">In the NYT today, Cade Metz implies that I left Google so that I could criticize Google. Actually, I left so that I could talk about the dangers of AI without considering how this impacts Google. Google has acted very responsibly.</p>&mdash; Geoffrey Hinton (@geoffreyhinton) <a href=\"https://twitter.com/geoffreyhinton/status/1652993570721210372?ref_src=twsrc%5Etfw\">May 1, 2023</a></blockquote> <script async src=\"https://platform.twitter.com/widgets.js\" charset=\"utf-8\"></script>"
   ]
  },
  {
   "cell_type": "markdown",
   "id": "d03eab83",
   "metadata": {},
   "source": [
    "## Say Goodbye to Irrelevant Search Results: Cohere Rerank Is Here"
   ]
  },
  {
   "cell_type": "markdown",
   "id": "f48cabce",
   "metadata": {},
   "source": [
    "On 1st May, 2023, [Cohere](https://twitter.com/CohereAI) has launched Cohere Re-rank, that can improve search performance with a single line of code."
   ]
  },
  {
   "cell_type": "markdown",
   "id": "a055d515",
   "metadata": {},
   "source": [
    "It is possible to integrate with existing keyword-based/semantic search system for the first-stage retrieval and integrate the Rerank endpoint in the second stage re-ranking."
   ]
  },
  {
   "cell_type": "code",
   "execution_count": 16,
   "id": "c32e9deb",
   "metadata": {},
   "outputs": [
    {
     "data": {
      "text/plain": [
       "RerankResult<document['text']: Washington, D.C. (also known as simply Washington or D.C., and officially as the District of Columbia) is the capital of the United States. It is a federal district. , index: 3, relevance_score: 0.9999989>"
      ]
     },
     "execution_count": 16,
     "metadata": {},
     "output_type": "execute_result"
    }
   ],
   "source": [
    "# !pip install cohere\n",
    "import cohere, os\n",
    "\n",
    "# Get your cohere API key on: www.cohere.com\n",
    "co = cohere.Client(os.getenv('COHERE_API_KEY'))\n",
    "\n",
    "# Example query and passages\n",
    "query = \"What is the capital of the United States?\"\n",
    "documents = [\n",
    "   \"Carson City is the capital city of the American state of Nevada. At the  2010 United States Census, Carson City had a population of 55,274.\",\n",
    "   \"The Commonwealth of the Northern Mariana Islands is a group of islands in the Pacific Ocean that are a political division controlled by the United States. Its capital is Saipan.\",\n",
    "   \"Charlotte Amalie is the capital and largest city of the United States Virgin Islands. It has about 20,000 people. The city is on the island of Saint Thomas.\",\n",
    "   \"Washington, D.C. (also known as simply Washington or D.C., and officially as the District of Columbia) is the capital of the United States. It is a federal district. \",\n",
    "   \"Capital punishment (the death penalty) has existed in the United States since before the United States was a country. As of 2017, capital punishment is legal in 30 of the 50 states.\",\n",
    "   \"North Dakota is a state in the United States. 672,591 people lived in North Dakota in the year 2010. The capital and seat of government is Bismarck.\"\n",
    "   ]\n",
    "\n",
    "results = co.rerank(query=query, documents=documents, top_n=3, model=\"rerank-multilingual-v2.0\")\n",
    "results[0]"
   ]
  },
  {
   "cell_type": "markdown",
   "id": "579e312b",
   "metadata": {},
   "source": [
    "As per the [blog](https://txt.cohere.com/rerank/), the model works for 100+ languages and enables great search quality across languages."
   ]
  },
  {
   "cell_type": "markdown",
   "id": "d7fabc0a",
   "metadata": {},
   "source": [
    "Try it out here: [Cohere Re-Rank](https://cohere.com/rerank?ref=txt.cohere.com&__hstc=14363112.ea28e4e7f2f73eadb7659e800d811771.1683520917828.1683520917828.1683520917828.1&__hssc=14363112.1.1683520917828&__hsfp=4051127703)."
   ]
  },
  {
   "cell_type": "markdown",
   "id": "2926be46",
   "metadata": {},
   "source": [
    "## AI-powered personal tutor "
   ]
  },
  {
   "cell_type": "markdown",
   "id": "d444429d",
   "metadata": {},
   "source": [
    "Did you ever imaging having a personal AI tutor? Well, it's all in the present now. "
   ]
  },
  {
   "cell_type": "markdown",
   "id": "494e948e",
   "metadata": {},
   "source": [
    "> *We’re at the cusp of using AI for probably the biggest positive transformation that education has ever seen.*\n",
    "\n",
    "said Sal Khan in his 2023 Ted Talk where he demoed KhanMigo!"
   ]
  },
  {
   "cell_type": "raw",
   "id": "7df2ae5b",
   "metadata": {},
   "source": [
    "<iframe width=\"560\" height=\"315\" src=\"https://www.youtube.com/embed/hJP5GqnTrNo\" title=\"YouTube video player\" frameborder=\"0\" allow=\"accelerometer; autoplay; clipboard-write; encrypted-media; gyroscope; picture-in-picture; web-share\" allowfullscreen></iframe>"
   ]
  },
  {
   "cell_type": "markdown",
   "id": "9e49070b",
   "metadata": {},
   "source": [
    "Try out KhanMigo [here](https://www.khanacademy.org/khan-labs)."
   ]
  },
  {
   "cell_type": "markdown",
   "id": "ba7062f7",
   "metadata": {},
   "source": [
    "## Mojo may be the biggest programming language advance in decades\n",
    "> Mojo is a new programming language, based on Python, which fixes Python’s performance and deployment problems."
   ]
  },
  {
   "cell_type": "markdown",
   "id": "144b4313",
   "metadata": {},
   "source": [
    "[Modular](https://www.modular.com/) co-founded by Chris Lattner and Tim Davis announced an inference engine that is upto 2.5X faster than TensorFlow and upto 3x faster than PyTorch! "
   ]
  },
  {
   "cell_type": "markdown",
   "id": "799a4922",
   "metadata": {},
   "source": [
    "Watch keynote here: https://www.modular.com/"
   ]
  },
  {
   "cell_type": "markdown",
   "id": "7968a816",
   "metadata": {},
   "source": [
    "They have also introduced a new programming language called - Mojo! Read docs [here](https://lnkd.in/gFxum-fv)."
   ]
  },
  {
   "cell_type": "markdown",
   "id": "394d3d3e",
   "metadata": {},
   "source": [
    "Also, don't forget to check out Jeremy Howard's demo of MOJO. Read more on fast.ai's blog [here](https://www.fast.ai/posts/2023-05-03-mojo-launch.html)"
   ]
  },
  {
   "cell_type": "raw",
   "id": "1189c16d",
   "metadata": {},
   "source": [
    "<iframe width=\"560\" height=\"315\" src=\"https://www.youtube.com/embed/6GvB5lZJqcE\" title=\"YouTube video player\" frameborder=\"0\" allow=\"accelerometer; autoplay; clipboard-write; encrypted-media; gyroscope; picture-in-picture; web-share\" allowfullscreen></iframe>"
   ]
  },
  {
   "cell_type": "markdown",
   "id": "9af0d112",
   "metadata": {},
   "source": [
    "## RLHF: Reinforcement Learning from Human Feedback"
   ]
  },
  {
   "cell_type": "markdown",
   "id": "f6a56686",
   "metadata": {},
   "source": [
    "![](../images/rlhf-chip.png)"
   ]
  },
  {
   "cell_type": "markdown",
   "id": "6fc41eb4",
   "metadata": {},
   "source": [
    "Want to understand how ChatGPT works and why is it so successful? Read Chip Huyen's [blog post on RLHF](https://huyenchip.com/2023/05/02/rlhf.html)."
   ]
  },
  {
   "cell_type": "markdown",
   "id": "00e6dfde",
   "metadata": {},
   "source": [
    "![](https://huyenchip.com/assets/pics/rlhf/2-shoggoth.jpg)"
   ]
  },
  {
   "cell_type": "markdown",
   "id": "94ccbb41",
   "metadata": {},
   "source": [
    "I particularly liked the detail and explanations for all 3 phases of ChatGPT development:\n",
    "\n",
    "1. Pre-training\n",
    "2. Supervised finetuning\n",
    "3. RLHF (Reinforcement Learning from Human Feedback)"
   ]
  },
  {
   "cell_type": "markdown",
   "id": "411d0313",
   "metadata": {},
   "source": [
    "For an even more introductory reference on RLHF, refer [The Full Story of Large Language Models and RLHF](https://www.assemblyai.com/blog/the-full-story-of-large-language-models-and-rlhf/) by Marco Ramponi from AssemblyAI."
   ]
  },
  {
   "cell_type": "markdown",
   "id": "afcd2eee",
   "metadata": {},
   "source": [
    "## Google \"We Have No Moat, And Neither Does OpenAI\""
   ]
  },
  {
   "cell_type": "markdown",
   "id": "d47596ee",
   "metadata": {},
   "source": [
    "Supposedly a very recent leaked document was shared by an anonymous individual on a public Discord server who has granted permission for its republication. This document did the rounds on Twitter & HackerNews! "
   ]
  },
  {
   "cell_type": "markdown",
   "id": "edd47626",
   "metadata": {},
   "source": [
    "> But the uncomfortable truth is, we aren’t positioned to win this arms race and neither is OpenAI. While we’ve been squabbling, a third faction has been quietly eating our lunch."
   ]
  },
  {
   "cell_type": "markdown",
   "id": "4e4282e4",
   "metadata": {},
   "source": [
    "Can you guess what this third faction is? Check it out [here](https://www.semianalysis.com/p/google-we-have-no-moat-and-neither)."
   ]
  },
  {
   "cell_type": "markdown",
   "id": "a38ca5a2",
   "metadata": {},
   "source": [
    "## Announcing the next wave of AI innovation with Microsoft Bing and Edge"
   ]
  },
  {
   "cell_type": "raw",
   "id": "cb9a2328",
   "metadata": {},
   "source": [
    "<blockquote class=\"twitter-tweet\"><p lang=\"en\" dir=\"ltr\">ChatGPT costs $20/month.<br><br>Bing Chat just got 10X better than ChatGPT and is free to use. <br><br>Here are some of the insane features they just added to their arsenal 👇 <a href=\"https://t.co/nVEEqTsbkC\">pic.twitter.com/nVEEqTsbkC</a></p>&mdash; Rez Karim .AI Powered Marketer (@rezkhere) <a href=\"https://twitter.com/rezkhere/status/1654537329099304962?ref_src=twsrc%5Etfw\">May 5, 2023</a></blockquote> <script async src=\"https://platform.twitter.com/widgets.js\" charset=\"utf-8\"></script>"
   ]
  },
  {
   "cell_type": "markdown",
   "id": "d72fdc10",
   "metadata": {},
   "source": [
    "From [Microsoft's blog](https://blogs.microsoft.com/blog/2023/05/04/announcing-the-next-wave-of-ai-innovation-with-microsoft-bing-and-edge/), the key updates to Microsoft Bing have been summarised below."
   ]
  },
  {
   "cell_type": "markdown",
   "id": "a15bd0d0",
   "metadata": {},
   "source": [
    "*This next generation is defined by:*\n",
    "\n",
    "- *Opening up Bing to more people by moving from Limited Preview to Open Preview and eliminating the waitlist for trial.*\n",
    "- *Moving from text-only search & chat to one that is incredibly more visual with rich image/video answers and coming shortly, new multimodal support.*\n",
    "- *Moving from single use chat/search sessions to multi-session productivity experiences with chat history and persistent chats within Edge.*\n",
    "- *Opening up platform capabilities so developers and third parties can build on top of Bing to help people take actions on their queries and complete tasks.*"
   ]
  },
  {
   "cell_type": "markdown",
   "id": "8ff86796",
   "metadata": {},
   "source": [
    "## Conclusion"
   ]
  },
  {
   "cell_type": "markdown",
   "id": "943e8894",
   "metadata": {},
   "source": [
    "This brings us to the end of the second issue of the Newsletter! \n",
    "\n",
    "If you found it helpful, consider subscribing to the blog. You can also buy me a coffee [here](https://www.buymeacoffee.com/amaarora).\n",
    "\n",
    "Thank you for your time! See you next week on Monday at 9am AEST!"
   ]
  }
 ],
 "metadata": {
  "kernelspec": {
   "display_name": "Python 3 (ipykernel)",
   "language": "python",
   "name": "python3"
  },
  "language_info": {
   "codemirror_mode": {
    "name": "ipython",
    "version": 3
   },
   "file_extension": ".py",
   "mimetype": "text/x-python",
   "name": "python",
   "nbconvert_exporter": "python",
   "pygments_lexer": "ipython3",
   "version": "3.10.9"
  },
  "toc": {
   "base_numbering": 1,
   "nav_menu": {},
   "number_sections": true,
   "sideBar": true,
   "skip_h1_title": false,
   "title_cell": "Table of Contents",
   "title_sidebar": "Contents",
   "toc_cell": false,
   "toc_position": {},
   "toc_section_display": true,
   "toc_window_display": false
  }
 },
 "nbformat": 4,
 "nbformat_minor": 5
}

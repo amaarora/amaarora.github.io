{
 "cells": [
  {
   "cell_type": "raw",
   "id": "83b8afa7",
   "metadata": {},
   "source": [
    "---\n",
    "title: Ahead of Times - Issue 2 (May 01 - May 07)\n",
    "subtitle: Second issue of the weekly newsletter to help you stay ahead of the times with latest news & updates in the field of AI. \n",
    "description: | \n",
    "    As part of this newsletter, I share with you key updates, projects, GitHub repos, research trends, research papers in the field of Computer Vision, Large Language Models and Stable Diffusion. \n",
    "categories:\n",
    "  - Newsletter\n",
    "author: Aman Arora\n",
    "date: \"05/08/2023\"\n",
    "toc: true\n",
    "number-sections: true\n",
    "title-block-banner: true\n",
    "bibliography: ../references.bib\n",
    "reference-location: margin\n",
    "code-fold: true\n",
    "image: ../images/newsletter-theme.png\n",
    "---"
   ]
  },
  {
   "cell_type": "markdown",
   "id": "30a86476",
   "metadata": {},
   "source": [
    "![Ahead of Times - Issue 1](../images/newsletter-theme.png)"
   ]
  },
  {
   "cell_type": "markdown",
   "id": "7cc8ab9e",
   "metadata": {},
   "source": [
    "# Introduction {#sec-intro}\n",
    "\n",
    "Hello and welcome back to the second issue of the weekly newsletter - **\"Ahead of Times\"**! \n",
    "\n",
    "Last week, I announced the firt issue and the start of this newsletter to help you cut through the noise and help you keep up to date with the latest advancements in the field of AI. \n",
    "\n",
    "So, let's get started!"
   ]
  },
  {
   "cell_type": "markdown",
   "id": "43384552",
   "metadata": {},
   "source": [
    "## When A.I. Chatbots Hallucinate"
   ]
  },
  {
   "cell_type": "markdown",
   "id": "b04c1960",
   "metadata": {},
   "source": [
    "The article called [\"When A.I. Chatbots Hallucinate\"](https://www.nytimes.com/2023/05/01/business/ai-chatbots-hallucinatation.html) published in NYT (New York Times) is a great introduction to term called \"Hallucination\". \n",
    "\n",
    "In simple words, it could also be referred to 'incorrect completion of the input query' by the chatbot. "
   ]
  },
  {
   "cell_type": "markdown",
   "id": "0f00bd81",
   "metadata": {},
   "source": [
    "I would recommend this article specifically to readers who would like a very gentle introduction to [Large Language Models](https://www.nytimes.com/2020/11/24/science/artificial-intelligence-ai-gpt3.html) (LLMs), hallucination, prompting, [Google Bard](https://bard.google.com/), ChatGPT, [Microsoft Bing](https://blogs.bing.com/search/march_2023/Confirmed-the-new-Bing-runs-on-OpenAI%E2%80%99s-GPT-4) & [GPT-4](https://openai.com/product/gpt-4)."
   ]
  },
  {
   "cell_type": "markdown",
   "id": "c32c4441",
   "metadata": {},
   "source": [
    "## ‘The Godfather of A.I.’ Leaves Google and Warns of Danger Ahead"
   ]
  },
  {
   "cell_type": "markdown",
   "id": "5265fc8d",
   "metadata": {},
   "source": [
    "Geoffrey Hinton, one of the pioneers in the field of artificial intelligence, quit Google. From the [article published in NYT](https://www.nytimes.com/2023/05/01/technology/ai-google-chatbot-engineer-quits-hinton.html):   \n",
    "\n",
    "*Dr. Hinton said he has quit his job at Google, where he has worked for more than a decade and became one of the most respected voices in the field, so he can freely speak out about the risks of A.I.*"
   ]
  },
  {
   "cell_type": "markdown",
   "id": "cb867733",
   "metadata": {},
   "source": [
    "Some concerns shared by Geoffrey Hinton in the NYT article:\n",
    "\n",
    ">\"He is also worried that A.I. technologies will in time upend the job market.\"\n",
    "\n",
    ">\"The idea that this stuff could actually get smarter than people is not so far off\""
   ]
  },
  {
   "cell_type": "markdown",
   "id": "13dbf1ae",
   "metadata": {},
   "source": [
    "Also, I would refer the reader to [Deep learning pioneer Geoffrey Hinton has quit Google](https://www.technologyreview.com/2023/05/01/1072478/deep-learning-pioneer-geoffrey-hinton-quits-google/) for more reading on the same. "
   ]
  },
  {
   "cell_type": "markdown",
   "id": "42f73f96",
   "metadata": {},
   "source": [
    "Dr. Hinton also later clarified on Twitter:"
   ]
  },
  {
   "cell_type": "raw",
   "id": "5b1f2ddd",
   "metadata": {},
   "source": [
    "<blockquote class=\"twitter-tweet\"><p lang=\"en\" dir=\"ltr\">In the NYT today, Cade Metz implies that I left Google so that I could criticize Google. Actually, I left so that I could talk about the dangers of AI without considering how this impacts Google. Google has acted very responsibly.</p>&mdash; Geoffrey Hinton (@geoffreyhinton) <a href=\"https://twitter.com/geoffreyhinton/status/1652993570721210372?ref_src=twsrc%5Etfw\">May 1, 2023</a></blockquote> <script async src=\"https://platform.twitter.com/widgets.js\" charset=\"utf-8\"></script>"
   ]
  }
 ],
 "metadata": {
  "kernelspec": {
   "display_name": "Python 3 (ipykernel)",
   "language": "python",
   "name": "python3"
  },
  "language_info": {
   "codemirror_mode": {
    "name": "ipython",
    "version": 3
   },
   "file_extension": ".py",
   "mimetype": "text/x-python",
   "name": "python",
   "nbconvert_exporter": "python",
   "pygments_lexer": "ipython3",
   "version": "3.10.9"
  },
  "toc": {
   "base_numbering": 1,
   "nav_menu": {},
   "number_sections": true,
   "sideBar": true,
   "skip_h1_title": false,
   "title_cell": "Table of Contents",
   "title_sidebar": "Contents",
   "toc_cell": false,
   "toc_position": {},
   "toc_section_display": true,
   "toc_window_display": false
  }
 },
 "nbformat": 4,
 "nbformat_minor": 5
}
